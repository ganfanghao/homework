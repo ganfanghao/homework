{
 "cells": [
  {
   "metadata": {},
   "cell_type": "markdown",
   "source": [
    "# 任务说明：\n",
    "利用金庸小说全集训练embedding模型，数据在GitHub或gitee上找，训练好embedding模型后，将金庸全集中的人名embedding应用主成分分析法降维到二维和三维，并可视化呈现"
   ],
   "id": "9b152ea4178039a"
  },
  {
   "metadata": {
    "collapsed": true,
    "ExecuteTime": {
     "end_time": "2025-04-10T01:25:35.695022Z",
     "start_time": "2025-04-10T01:25:23.185634Z"
    }
   },
   "cell_type": "code",
   "source": [
    "# 分词并导入用户字典\n",
    "import jieba\n",
    "import chardet\n",
    "import jieba.posseg as pseg\n",
    "import pandas as pd\n",
    "import numpy as np\n",
    "import matplotlib.pyplot as plt\n",
    "from sklearn.decomposition import PCA\n",
    "from sklearn.manifold import TSNE\n",
    "\n",
    "# 加载用户字典\n",
    "jieba.load_userdict(\"D:\\project\\data\\jyxstxtqj\\\\name.txt\")\n",
    "# 读取金庸小说全集\n",
    "novels = []\n",
    "def read_file(file_path):\n",
    "    # 监测文本编码\n",
    "    with open(file_path, 'rb') as f:\n",
    "        raw_data = f.read()\n",
    "        result = chardet.detect(raw_data)\n",
    "        print(result)\n",
    "    # 读取文本\n",
    "    with open(file_path, 'r', encoding=result[\"encoding\"]) as f:\n",
    "        content = f.read()\n",
    "        return content\n",
    "novel_paths = [\"三十三剑客图.txt\", \"书剑恩仇录.txt\", \"侠客行.txt\", \"倚天屠龙记.txt\", \"天龙八部.txt\", \"射雕英雄传.txt\", \"白马啸西风.txt\", \"碧血剑.txt\", \"神雕侠侣.txt\", \"笑傲江湖.txt\", \"越女剑.txt\", \"连城诀.txt\", \"雪山飞狐.txt\", \"飞狐外传.txt\", \"鸳鸯刀.txt\", \"鹿鼎记.txt\"]\n",
    "for novel_path in novel_paths:\n",
    "    novel = read_file(\"D:\\project\\data\\jyxstxtqj\\\\\" + novel_path)\n",
    "    novels.append(novel)\n",
    "\n",
    "print(len(novels))\n",
    "print(novels[-1][:100])"
   ],
   "id": "initial_id",
   "outputs": [
    {
     "name": "stdout",
     "output_type": "stream",
     "text": [
      "{'encoding': 'utf-8', 'confidence': 0.99, 'language': ''}\n",
      "{'encoding': 'utf-8', 'confidence': 0.99, 'language': ''}\n",
      "{'encoding': 'utf-8', 'confidence': 0.99, 'language': ''}\n",
      "{'encoding': 'utf-8', 'confidence': 0.99, 'language': ''}\n",
      "{'encoding': 'utf-8', 'confidence': 0.99, 'language': ''}\n",
      "{'encoding': 'utf-8', 'confidence': 0.99, 'language': ''}\n",
      "{'encoding': 'utf-8', 'confidence': 0.99, 'language': ''}\n",
      "{'encoding': 'utf-8', 'confidence': 0.99, 'language': ''}\n",
      "{'encoding': 'utf-8', 'confidence': 0.99, 'language': ''}\n",
      "{'encoding': 'utf-8', 'confidence': 0.99, 'language': ''}\n",
      "{'encoding': 'utf-8', 'confidence': 0.99, 'language': ''}\n",
      "{'encoding': 'utf-8', 'confidence': 0.99, 'language': ''}\n",
      "{'encoding': 'utf-8', 'confidence': 0.99, 'language': ''}\n",
      "{'encoding': 'utf-8', 'confidence': 0.99, 'language': ''}\n",
      "{'encoding': 'utf-8', 'confidence': 0.99, 'language': ''}\n",
      "{'encoding': 'utf-8', 'confidence': 0.99, 'language': ''}\n",
      "16\n",
      "本书来自www.cr173.com免费txt小说下载站\n",
      "更多更新免费电子书请关注www.cr173.com\n",
      "　　\n",
      "　　鹿鼎记\n",
      "　　第一回      纵横钩党清流祸 峭茜风期月旦评\n",
      "　　北风如刀，满地冰\n"
     ]
    }
   ],
   "execution_count": 5
  },
  {
   "metadata": {},
   "cell_type": "code",
   "outputs": [],
   "execution_count": null,
   "source": "",
   "id": "4420a767546d1202"
  }
 ],
 "metadata": {
  "kernelspec": {
   "display_name": "Python 3",
   "language": "python",
   "name": "python3"
  },
  "language_info": {
   "codemirror_mode": {
    "name": "ipython",
    "version": 2
   },
   "file_extension": ".py",
   "mimetype": "text/x-python",
   "name": "python",
   "nbconvert_exporter": "python",
   "pygments_lexer": "ipython2",
   "version": "2.7.6"
  }
 },
 "nbformat": 4,
 "nbformat_minor": 5
}
