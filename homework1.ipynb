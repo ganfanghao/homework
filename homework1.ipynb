{
 "cells": [
  {
   "cell_type": "markdown",
   "id": "b18976c7f12bb312",
   "metadata": {},
   "source": [
    "# 中文文本分类-THUCNews数据集"
   ]
  },
  {
   "cell_type": "markdown",
   "id": "6e3e09daabc7226e",
   "metadata": {},
   "source": [
    "## 数据说明与初步处理\n",
    "### 数据集下载\n",
    "本文采用了清华NLP组提供的THUCNews新闻文本分类数据集的子集\n",
    "数据下载链接：\n",
    "THUCNews数据子集：https://pan.baidu.com/s/1hugrfRu 密码：qfud\n",
    "\n",
    "### 数据量\n",
    "该数据集使用了其中的10个分类，每个分类6500条，总共65000条新闻数据。\n",
    "类别如下：体育, 财经, 房产, 家居, 教育, 科技, 时尚, 时政, 游戏, 娱乐\n",
    "数据集共有三个文件，如下：\n",
    "cnews.train.txt: 训练集(500010条)\n",
    "cnews.val.txt: 验证集(50010条)\n",
    "cnews.test.txt: 测试集(1000*10条)\n",
    "\n",
    "原文链接：https://blog.csdn.net/qq_36047533/article/details/88360833"
   ]
  },
  {
   "cell_type": "code",
   "id": "cace10f1e90a8b9f",
   "metadata": {
    "ExecuteTime": {
     "end_time": "2025-03-12T11:50:07.284014Z",
     "start_time": "2025-03-12T11:50:05.990627Z"
    }
   },
   "source": [
    "import pandas as pd\n",
    "train_data=pd.read_csv('D:\\project\\data\\cnews.train.txt',sep='\\t',names=['label','content'])\n",
    "test_data=pd.read_csv('D:\\project\\data\\cnews.test.txt',sep='\\t',names=['label','content'])\n",
    "val_data=pd.read_csv(\"D:\\project\\data\\cnews.val.txt\",sep='\\t',names=['label','content'])\n",
    "train_data.info()"
   ],
   "outputs": [
    {
     "name": "stdout",
     "output_type": "stream",
     "text": [
      "<class 'pandas.core.frame.DataFrame'>\n",
      "RangeIndex: 50000 entries, 0 to 49999\n",
      "Data columns (total 2 columns):\n",
      " #   Column   Non-Null Count  Dtype \n",
      "---  ------   --------------  ----- \n",
      " 0   label    50000 non-null  object\n",
      " 1   content  50000 non-null  object\n",
      "dtypes: object(2)\n",
      "memory usage: 781.4+ KB\n"
     ]
    }
   ],
   "execution_count": 21
  },
  {
   "cell_type": "code",
   "id": "de3dc81070f58e58",
   "metadata": {
    "ExecuteTime": {
     "end_time": "2025-03-12T11:50:08.896396Z",
     "start_time": "2025-03-12T11:50:08.880908Z"
    }
   },
   "source": "test_data.info()",
   "outputs": [
    {
     "name": "stdout",
     "output_type": "stream",
     "text": [
      "<class 'pandas.core.frame.DataFrame'>\n",
      "RangeIndex: 10000 entries, 0 to 9999\n",
      "Data columns (total 2 columns):\n",
      " #   Column   Non-Null Count  Dtype \n",
      "---  ------   --------------  ----- \n",
      " 0   label    10000 non-null  object\n",
      " 1   content  10000 non-null  object\n",
      "dtypes: object(2)\n",
      "memory usage: 156.4+ KB\n"
     ]
    }
   ],
   "execution_count": 22
  },
  {
   "metadata": {
    "ExecuteTime": {
     "end_time": "2025-03-12T11:50:09.827181Z",
     "start_time": "2025-03-12T11:50:09.811736Z"
    }
   },
   "cell_type": "code",
   "source": "val_data.info()",
   "id": "6d86d93a22ee7add",
   "outputs": [
    {
     "name": "stdout",
     "output_type": "stream",
     "text": [
      "<class 'pandas.core.frame.DataFrame'>\n",
      "RangeIndex: 5000 entries, 0 to 4999\n",
      "Data columns (total 2 columns):\n",
      " #   Column   Non-Null Count  Dtype \n",
      "---  ------   --------------  ----- \n",
      " 0   label    5000 non-null   object\n",
      " 1   content  5000 non-null   object\n",
      "dtypes: object(2)\n",
      "memory usage: 78.2+ KB\n"
     ]
    }
   ],
   "execution_count": 23
  },
  {
   "metadata": {},
   "cell_type": "markdown",
   "source": "## 将数据划分为作业要求的[\"体育\", \"财经\", \"房产\", \"家居\", \"教育\", \"科技\"]训练集4000\\*6、验证集500\\*6、测试集500\\*6",
   "id": "1318a5332460b20e"
  },
  {
   "metadata": {
    "ExecuteTime": {
     "end_time": "2025-03-12T11:50:12.544452Z",
     "start_time": "2025-03-12T11:50:12.510107Z"
    }
   },
   "cell_type": "code",
   "source": [
    "# target_list 包含要提取的类别\n",
    "target_list = [\"体育\", \"财经\", \"房产\", \"家居\", \"教育\", \"科技\"]\n",
    "\n",
    "# 创建一个空列表来存储每个类别的前4000行\n",
    "dfs = []\n",
    "\n",
    "# 遍历目标类别列表，提取每个类别的前4000行\n",
    "for category in target_list:\n",
    "    category_df = train_data[train_data[\"label\"] == category].iloc[:4000, :]\n",
    "    dfs.append(category_df)\n",
    "\n",
    "# 使用 concat 函数将所有类别提取的数据合并为一个 DataFrame\n",
    "combined_df = pd.concat(dfs, ignore_index=True)\n",
    "combined_df.info()"
   ],
   "id": "8517a2f4d9edce9f",
   "outputs": [
    {
     "name": "stdout",
     "output_type": "stream",
     "text": [
      "<class 'pandas.core.frame.DataFrame'>\n",
      "RangeIndex: 24000 entries, 0 to 23999\n",
      "Data columns (total 2 columns):\n",
      " #   Column   Non-Null Count  Dtype \n",
      "---  ------   --------------  ----- \n",
      " 0   label    24000 non-null  object\n",
      " 1   content  24000 non-null  object\n",
      "dtypes: object(2)\n",
      "memory usage: 375.1+ KB\n"
     ]
    }
   ],
   "execution_count": 24
  },
  {
   "metadata": {
    "ExecuteTime": {
     "end_time": "2025-03-12T11:50:14.289269Z",
     "start_time": "2025-03-12T11:50:14.273620Z"
    }
   },
   "cell_type": "code",
   "source": "combined_df.head()",
   "id": "16d195a5a7aeac05",
   "outputs": [
    {
     "data": {
      "text/plain": [
       "  label                                            content\n",
       "0    体育  马晓旭意外受伤让国奥警惕 无奈大雨格外青睐殷家军记者傅亚雨沈阳报道 来到沈阳，国奥队依然没有...\n",
       "1    体育  商瑞华首战复仇心切 中国玫瑰要用美国方式攻克瑞典多曼来了，瑞典来了，商瑞华首战求3分的信心也...\n",
       "2    体育  冠军球队迎新欢乐派对 黄旭获大奖张军赢下PK赛新浪体育讯12月27日晚，“冠军高尔夫球队迎新...\n",
       "3    体育  辽足签约危机引注册难关 高层威逼利诱合同笑里藏刀新浪体育讯2月24日，辽足爆发了集体拒签风波...\n",
       "4    体育  揭秘谢亚龙被带走：总局电话骗局 复制南杨轨迹体坛周报特约记者张锐北京报道  谢亚龙已经被公安..."
      ],
      "text/html": [
       "<div>\n",
       "<style scoped>\n",
       "    .dataframe tbody tr th:only-of-type {\n",
       "        vertical-align: middle;\n",
       "    }\n",
       "\n",
       "    .dataframe tbody tr th {\n",
       "        vertical-align: top;\n",
       "    }\n",
       "\n",
       "    .dataframe thead th {\n",
       "        text-align: right;\n",
       "    }\n",
       "</style>\n",
       "<table border=\"1\" class=\"dataframe\">\n",
       "  <thead>\n",
       "    <tr style=\"text-align: right;\">\n",
       "      <th></th>\n",
       "      <th>label</th>\n",
       "      <th>content</th>\n",
       "    </tr>\n",
       "  </thead>\n",
       "  <tbody>\n",
       "    <tr>\n",
       "      <th>0</th>\n",
       "      <td>体育</td>\n",
       "      <td>马晓旭意外受伤让国奥警惕 无奈大雨格外青睐殷家军记者傅亚雨沈阳报道 来到沈阳，国奥队依然没有...</td>\n",
       "    </tr>\n",
       "    <tr>\n",
       "      <th>1</th>\n",
       "      <td>体育</td>\n",
       "      <td>商瑞华首战复仇心切 中国玫瑰要用美国方式攻克瑞典多曼来了，瑞典来了，商瑞华首战求3分的信心也...</td>\n",
       "    </tr>\n",
       "    <tr>\n",
       "      <th>2</th>\n",
       "      <td>体育</td>\n",
       "      <td>冠军球队迎新欢乐派对 黄旭获大奖张军赢下PK赛新浪体育讯12月27日晚，“冠军高尔夫球队迎新...</td>\n",
       "    </tr>\n",
       "    <tr>\n",
       "      <th>3</th>\n",
       "      <td>体育</td>\n",
       "      <td>辽足签约危机引注册难关 高层威逼利诱合同笑里藏刀新浪体育讯2月24日，辽足爆发了集体拒签风波...</td>\n",
       "    </tr>\n",
       "    <tr>\n",
       "      <th>4</th>\n",
       "      <td>体育</td>\n",
       "      <td>揭秘谢亚龙被带走：总局电话骗局 复制南杨轨迹体坛周报特约记者张锐北京报道  谢亚龙已经被公安...</td>\n",
       "    </tr>\n",
       "  </tbody>\n",
       "</table>\n",
       "</div>"
      ]
     },
     "execution_count": 25,
     "metadata": {},
     "output_type": "execute_result"
    }
   ],
   "execution_count": 25
  },
  {
   "metadata": {
    "ExecuteTime": {
     "end_time": "2025-03-12T11:50:16.839444Z",
     "start_time": "2025-03-12T11:50:16.491422Z"
    }
   },
   "cell_type": "code",
   "source": [
    "# 将合并后的 DataFrame 保存为用制表符分隔的 CSV 文件\n",
    "combined_df.to_csv('D:\\project\\data\\\\train_data.csv', sep='\\t', index=False)"
   ],
   "id": "d73b1ab937078600",
   "outputs": [],
   "execution_count": 26
  },
  {
   "metadata": {
    "ExecuteTime": {
     "end_time": "2025-03-12T11:50:19.875572Z",
     "start_time": "2025-03-12T11:50:19.861133Z"
    }
   },
   "cell_type": "code",
   "source": [
    "# 创建一个空列表来存储每个类别的前4000行\n",
    "dfs = []\n",
    "# 遍历目标类别列表，提取每个类别的前500行\n",
    "for category in target_list:\n",
    "    category_df = val_data[val_data[\"label\"] == category].iloc[:500, :]\n",
    "    dfs.append(category_df)\n",
    "\n",
    "# 使用 concat 函数将所有类别提取的数据合并为一个 DataFrame\n",
    "combined_df = pd.concat(dfs, ignore_index=True)\n",
    "combined_df.info()"
   ],
   "id": "e5d4ed6685dcce0e",
   "outputs": [
    {
     "name": "stdout",
     "output_type": "stream",
     "text": [
      "<class 'pandas.core.frame.DataFrame'>\n",
      "RangeIndex: 3000 entries, 0 to 2999\n",
      "Data columns (total 2 columns):\n",
      " #   Column   Non-Null Count  Dtype \n",
      "---  ------   --------------  ----- \n",
      " 0   label    3000 non-null   object\n",
      " 1   content  3000 non-null   object\n",
      "dtypes: object(2)\n",
      "memory usage: 47.0+ KB\n"
     ]
    }
   ],
   "execution_count": 27
  },
  {
   "metadata": {
    "ExecuteTime": {
     "end_time": "2025-03-12T11:50:21.238473Z",
     "start_time": "2025-03-12T11:50:21.222803Z"
    }
   },
   "cell_type": "code",
   "source": "combined_df.head()",
   "id": "533257b8bed344aa",
   "outputs": [
    {
     "data": {
      "text/plain": [
       "  label                                            content\n",
       "0    体育  黄蜂vs湖人首发：科比带伤战保罗 加索尔救赎之战 新浪体育讯北京时间4月27日，NBA季后赛...\n",
       "1    体育  1.7秒神之一击救马刺王朝于危难 这个新秀有点牛！新浪体育讯在刚刚结束的比赛中，回到主场的马...\n",
       "2    体育  1人灭掘金！神般杜兰特！ 他想要分的时候没人能挡新浪体育讯在NBA的世界里，真的猛男，敢于直...\n",
       "3    体育  韩国国奥20人名单：朴周永领衔 两世界杯国脚入选新浪体育讯据韩联社首尔9月17日电 韩国国奥...\n",
       "4    体育  天才中锋崇拜王治郅 周琦：球员最终是靠实力说话2月14日从土耳其男篮邀请赛回到北京之后，周琦..."
      ],
      "text/html": [
       "<div>\n",
       "<style scoped>\n",
       "    .dataframe tbody tr th:only-of-type {\n",
       "        vertical-align: middle;\n",
       "    }\n",
       "\n",
       "    .dataframe tbody tr th {\n",
       "        vertical-align: top;\n",
       "    }\n",
       "\n",
       "    .dataframe thead th {\n",
       "        text-align: right;\n",
       "    }\n",
       "</style>\n",
       "<table border=\"1\" class=\"dataframe\">\n",
       "  <thead>\n",
       "    <tr style=\"text-align: right;\">\n",
       "      <th></th>\n",
       "      <th>label</th>\n",
       "      <th>content</th>\n",
       "    </tr>\n",
       "  </thead>\n",
       "  <tbody>\n",
       "    <tr>\n",
       "      <th>0</th>\n",
       "      <td>体育</td>\n",
       "      <td>黄蜂vs湖人首发：科比带伤战保罗 加索尔救赎之战 新浪体育讯北京时间4月27日，NBA季后赛...</td>\n",
       "    </tr>\n",
       "    <tr>\n",
       "      <th>1</th>\n",
       "      <td>体育</td>\n",
       "      <td>1.7秒神之一击救马刺王朝于危难 这个新秀有点牛！新浪体育讯在刚刚结束的比赛中，回到主场的马...</td>\n",
       "    </tr>\n",
       "    <tr>\n",
       "      <th>2</th>\n",
       "      <td>体育</td>\n",
       "      <td>1人灭掘金！神般杜兰特！ 他想要分的时候没人能挡新浪体育讯在NBA的世界里，真的猛男，敢于直...</td>\n",
       "    </tr>\n",
       "    <tr>\n",
       "      <th>3</th>\n",
       "      <td>体育</td>\n",
       "      <td>韩国国奥20人名单：朴周永领衔 两世界杯国脚入选新浪体育讯据韩联社首尔9月17日电 韩国国奥...</td>\n",
       "    </tr>\n",
       "    <tr>\n",
       "      <th>4</th>\n",
       "      <td>体育</td>\n",
       "      <td>天才中锋崇拜王治郅 周琦：球员最终是靠实力说话2月14日从土耳其男篮邀请赛回到北京之后，周琦...</td>\n",
       "    </tr>\n",
       "  </tbody>\n",
       "</table>\n",
       "</div>"
      ]
     },
     "execution_count": 28,
     "metadata": {},
     "output_type": "execute_result"
    }
   ],
   "execution_count": 28
  },
  {
   "metadata": {
    "ExecuteTime": {
     "end_time": "2025-03-12T11:50:23.334625Z",
     "start_time": "2025-03-12T11:50:23.272132Z"
    }
   },
   "cell_type": "code",
   "source": [
    "# 将合并后的 DataFrame 保存为用制表符分隔的 CSV 文件\n",
    "combined_df.to_csv('D:\\project\\data\\\\val_data.csv', sep='\\t', index=False)"
   ],
   "id": "4d11a4a83a42f57d",
   "outputs": [],
   "execution_count": 29
  },
  {
   "metadata": {
    "ExecuteTime": {
     "end_time": "2025-03-12T11:50:24.815652Z",
     "start_time": "2025-03-12T11:50:24.787313Z"
    }
   },
   "cell_type": "code",
   "source": [
    "# 创建一个空列表来存储每个类别的前4000行\n",
    "dfs = []\n",
    "# 遍历目标类别列表，提取每个类别的前500行\n",
    "for category in target_list:\n",
    "    category_df = test_data[test_data[\"label\"] == category].iloc[:500, :]\n",
    "    dfs.append(category_df)\n",
    "\n",
    "# 使用 concat 函数将所有类别提取的数据合并为一个 DataFrame\n",
    "combined_df = pd.concat(dfs, ignore_index=True)\n",
    "combined_df.info()"
   ],
   "id": "b911d5d9378fd7b4",
   "outputs": [
    {
     "name": "stdout",
     "output_type": "stream",
     "text": [
      "<class 'pandas.core.frame.DataFrame'>\n",
      "RangeIndex: 3000 entries, 0 to 2999\n",
      "Data columns (total 2 columns):\n",
      " #   Column   Non-Null Count  Dtype \n",
      "---  ------   --------------  ----- \n",
      " 0   label    3000 non-null   object\n",
      " 1   content  3000 non-null   object\n",
      "dtypes: object(2)\n",
      "memory usage: 47.0+ KB\n"
     ]
    }
   ],
   "execution_count": 30
  },
  {
   "metadata": {
    "ExecuteTime": {
     "end_time": "2025-03-12T11:50:36.586233Z",
     "start_time": "2025-03-12T11:50:36.568388Z"
    }
   },
   "cell_type": "code",
   "source": "combined_df.head()",
   "id": "815ebcc8e6d0457e",
   "outputs": [
    {
     "data": {
      "text/plain": [
       "  label                                            content\n",
       "0    体育  鲍勃库西奖归谁属？ NCAA最强控卫是坎巴还是弗神新浪体育讯如今，本赛季的NCAA进入到了末...\n",
       "1    体育  麦基砍28+18+5却充满寂寞 纪录之夜他的痛阿联最懂新浪体育讯上天对每个人都是公平的，贾维...\n",
       "2    体育  黄蜂vs湖人首发：科比冲击七连胜 火箭两旧将登场新浪体育讯北京时间3月28日，NBA常规赛洛...\n",
       "3    体育  双面谢亚龙作秀终成做作 谁来为低劣行政能力埋单是谁任命了谢亚龙？谁放纵了谢亚龙？谁又该为谢亚...\n",
       "4    体育  兔年首战山西换帅后有虎胆 张学文用乔丹名言励志今晚客场挑战浙江稠州银行队，是山西汾酒男篮的兔..."
      ],
      "text/html": [
       "<div>\n",
       "<style scoped>\n",
       "    .dataframe tbody tr th:only-of-type {\n",
       "        vertical-align: middle;\n",
       "    }\n",
       "\n",
       "    .dataframe tbody tr th {\n",
       "        vertical-align: top;\n",
       "    }\n",
       "\n",
       "    .dataframe thead th {\n",
       "        text-align: right;\n",
       "    }\n",
       "</style>\n",
       "<table border=\"1\" class=\"dataframe\">\n",
       "  <thead>\n",
       "    <tr style=\"text-align: right;\">\n",
       "      <th></th>\n",
       "      <th>label</th>\n",
       "      <th>content</th>\n",
       "    </tr>\n",
       "  </thead>\n",
       "  <tbody>\n",
       "    <tr>\n",
       "      <th>0</th>\n",
       "      <td>体育</td>\n",
       "      <td>鲍勃库西奖归谁属？ NCAA最强控卫是坎巴还是弗神新浪体育讯如今，本赛季的NCAA进入到了末...</td>\n",
       "    </tr>\n",
       "    <tr>\n",
       "      <th>1</th>\n",
       "      <td>体育</td>\n",
       "      <td>麦基砍28+18+5却充满寂寞 纪录之夜他的痛阿联最懂新浪体育讯上天对每个人都是公平的，贾维...</td>\n",
       "    </tr>\n",
       "    <tr>\n",
       "      <th>2</th>\n",
       "      <td>体育</td>\n",
       "      <td>黄蜂vs湖人首发：科比冲击七连胜 火箭两旧将登场新浪体育讯北京时间3月28日，NBA常规赛洛...</td>\n",
       "    </tr>\n",
       "    <tr>\n",
       "      <th>3</th>\n",
       "      <td>体育</td>\n",
       "      <td>双面谢亚龙作秀终成做作 谁来为低劣行政能力埋单是谁任命了谢亚龙？谁放纵了谢亚龙？谁又该为谢亚...</td>\n",
       "    </tr>\n",
       "    <tr>\n",
       "      <th>4</th>\n",
       "      <td>体育</td>\n",
       "      <td>兔年首战山西换帅后有虎胆 张学文用乔丹名言励志今晚客场挑战浙江稠州银行队，是山西汾酒男篮的兔...</td>\n",
       "    </tr>\n",
       "  </tbody>\n",
       "</table>\n",
       "</div>"
      ]
     },
     "execution_count": 31,
     "metadata": {},
     "output_type": "execute_result"
    }
   ],
   "execution_count": 31
  },
  {
   "metadata": {
    "ExecuteTime": {
     "end_time": "2025-03-12T11:50:55.533601Z",
     "start_time": "2025-03-12T11:50:55.478935Z"
    }
   },
   "cell_type": "code",
   "source": [
    "# 将合并后的 DataFrame 保存为用制表符分隔的 CSV 文件\n",
    "combined_df.to_csv('D:\\project\\data\\\\test_data.csv', sep='\\t', index=False)"
   ],
   "id": "fe3cd76c9daedd1e",
   "outputs": [],
   "execution_count": 32
  },
  {
   "metadata": {},
   "cell_type": "markdown",
   "source": "## 将数据集的label转换为数字",
   "id": "5da8979a39ee1427"
  },
  {
   "metadata": {
    "ExecuteTime": {
     "end_time": "2025-03-13T09:09:52.363890Z",
     "start_time": "2025-03-13T09:09:51.656227Z"
    }
   },
   "cell_type": "code",
   "source": [
    "import numpy as np\n",
    "import pandas as pd\n",
    "# 读取数据集\n",
    "train_data = pd.read_csv('D:\\project\\data\\\\train_data.csv', sep='\\t')\n",
    "val_data = pd.read_csv('D:\\project\\data\\\\val_data.csv', sep='\\t')\n",
    "test_data = pd.read_csv('D:\\project\\data\\\\test_data.csv', sep='\\t')\n",
    "train_data.info()\n",
    "val_data.info()\n",
    "test_data.info()"
   ],
   "id": "cf91f321c509806b",
   "outputs": [
    {
     "name": "stdout",
     "output_type": "stream",
     "text": [
      "<class 'pandas.core.frame.DataFrame'>\n",
      "RangeIndex: 24000 entries, 0 to 23999\n",
      "Data columns (total 2 columns):\n",
      " #   Column   Non-Null Count  Dtype \n",
      "---  ------   --------------  ----- \n",
      " 0   label    24000 non-null  object\n",
      " 1   content  24000 non-null  object\n",
      "dtypes: object(2)\n",
      "memory usage: 375.1+ KB\n",
      "<class 'pandas.core.frame.DataFrame'>\n",
      "RangeIndex: 3000 entries, 0 to 2999\n",
      "Data columns (total 2 columns):\n",
      " #   Column   Non-Null Count  Dtype \n",
      "---  ------   --------------  ----- \n",
      " 0   label    3000 non-null   object\n",
      " 1   content  3000 non-null   object\n",
      "dtypes: object(2)\n",
      "memory usage: 47.0+ KB\n",
      "<class 'pandas.core.frame.DataFrame'>\n",
      "RangeIndex: 3000 entries, 0 to 2999\n",
      "Data columns (total 2 columns):\n",
      " #   Column   Non-Null Count  Dtype \n",
      "---  ------   --------------  ----- \n",
      " 0   label    3000 non-null   object\n",
      " 1   content  3000 non-null   object\n",
      "dtypes: object(2)\n",
      "memory usage: 47.0+ KB\n"
     ]
    }
   ],
   "execution_count": 3
  },
  {
   "metadata": {
    "ExecuteTime": {
     "end_time": "2025-03-13T09:09:55.769820Z",
     "start_time": "2025-03-13T09:09:55.754190Z"
    }
   },
   "cell_type": "code",
   "source": "train_data.head()",
   "id": "6f48285239098150",
   "outputs": [
    {
     "data": {
      "text/plain": [
       "  label                                            content\n",
       "0    体育  马晓旭意外受伤让国奥警惕 无奈大雨格外青睐殷家军记者傅亚雨沈阳报道 来到沈阳，国奥队依然没有...\n",
       "1    体育  商瑞华首战复仇心切 中国玫瑰要用美国方式攻克瑞典多曼来了，瑞典来了，商瑞华首战求3分的信心也...\n",
       "2    体育  冠军球队迎新欢乐派对 黄旭获大奖张军赢下PK赛新浪体育讯12月27日晚，“冠军高尔夫球队迎新...\n",
       "3    体育  辽足签约危机引注册难关 高层威逼利诱合同笑里藏刀新浪体育讯2月24日，辽足爆发了集体拒签风波...\n",
       "4    体育  揭秘谢亚龙被带走：总局电话骗局 复制南杨轨迹体坛周报特约记者张锐北京报道  谢亚龙已经被公安..."
      ],
      "text/html": [
       "<div>\n",
       "<style scoped>\n",
       "    .dataframe tbody tr th:only-of-type {\n",
       "        vertical-align: middle;\n",
       "    }\n",
       "\n",
       "    .dataframe tbody tr th {\n",
       "        vertical-align: top;\n",
       "    }\n",
       "\n",
       "    .dataframe thead th {\n",
       "        text-align: right;\n",
       "    }\n",
       "</style>\n",
       "<table border=\"1\" class=\"dataframe\">\n",
       "  <thead>\n",
       "    <tr style=\"text-align: right;\">\n",
       "      <th></th>\n",
       "      <th>label</th>\n",
       "      <th>content</th>\n",
       "    </tr>\n",
       "  </thead>\n",
       "  <tbody>\n",
       "    <tr>\n",
       "      <th>0</th>\n",
       "      <td>体育</td>\n",
       "      <td>马晓旭意外受伤让国奥警惕 无奈大雨格外青睐殷家军记者傅亚雨沈阳报道 来到沈阳，国奥队依然没有...</td>\n",
       "    </tr>\n",
       "    <tr>\n",
       "      <th>1</th>\n",
       "      <td>体育</td>\n",
       "      <td>商瑞华首战复仇心切 中国玫瑰要用美国方式攻克瑞典多曼来了，瑞典来了，商瑞华首战求3分的信心也...</td>\n",
       "    </tr>\n",
       "    <tr>\n",
       "      <th>2</th>\n",
       "      <td>体育</td>\n",
       "      <td>冠军球队迎新欢乐派对 黄旭获大奖张军赢下PK赛新浪体育讯12月27日晚，“冠军高尔夫球队迎新...</td>\n",
       "    </tr>\n",
       "    <tr>\n",
       "      <th>3</th>\n",
       "      <td>体育</td>\n",
       "      <td>辽足签约危机引注册难关 高层威逼利诱合同笑里藏刀新浪体育讯2月24日，辽足爆发了集体拒签风波...</td>\n",
       "    </tr>\n",
       "    <tr>\n",
       "      <th>4</th>\n",
       "      <td>体育</td>\n",
       "      <td>揭秘谢亚龙被带走：总局电话骗局 复制南杨轨迹体坛周报特约记者张锐北京报道  谢亚龙已经被公安...</td>\n",
       "    </tr>\n",
       "  </tbody>\n",
       "</table>\n",
       "</div>"
      ]
     },
     "execution_count": 4,
     "metadata": {},
     "output_type": "execute_result"
    }
   ],
   "execution_count": 4
  },
  {
   "metadata": {
    "ExecuteTime": {
     "end_time": "2025-03-13T09:10:17.218887Z",
     "start_time": "2025-03-13T09:10:17.204685Z"
    }
   },
   "cell_type": "code",
   "source": [
    "# 将数据集的label转换为数字\n",
    "label_dict = {\"体育\": 0, \"财经\": 1, \"房产\": 2, \"家居\": 3, \"教育\": 4, \"科技\": 5}\n",
    "train_data[\"label\"] = train_data[\"label\"].map(label_dict)\n",
    "val_data[\"label\"] = val_data[\"label\"].map(label_dict)\n",
    "test_data[\"label\"] = test_data[\"label\"].map(label_dict)\n",
    "train_data.head()"
   ],
   "id": "2118ddfeb63d40d5",
   "outputs": [
    {
     "data": {
      "text/plain": [
       "   label                                            content\n",
       "0      0  马晓旭意外受伤让国奥警惕 无奈大雨格外青睐殷家军记者傅亚雨沈阳报道 来到沈阳，国奥队依然没有...\n",
       "1      0  商瑞华首战复仇心切 中国玫瑰要用美国方式攻克瑞典多曼来了，瑞典来了，商瑞华首战求3分的信心也...\n",
       "2      0  冠军球队迎新欢乐派对 黄旭获大奖张军赢下PK赛新浪体育讯12月27日晚，“冠军高尔夫球队迎新...\n",
       "3      0  辽足签约危机引注册难关 高层威逼利诱合同笑里藏刀新浪体育讯2月24日，辽足爆发了集体拒签风波...\n",
       "4      0  揭秘谢亚龙被带走：总局电话骗局 复制南杨轨迹体坛周报特约记者张锐北京报道  谢亚龙已经被公安..."
      ],
      "text/html": [
       "<div>\n",
       "<style scoped>\n",
       "    .dataframe tbody tr th:only-of-type {\n",
       "        vertical-align: middle;\n",
       "    }\n",
       "\n",
       "    .dataframe tbody tr th {\n",
       "        vertical-align: top;\n",
       "    }\n",
       "\n",
       "    .dataframe thead th {\n",
       "        text-align: right;\n",
       "    }\n",
       "</style>\n",
       "<table border=\"1\" class=\"dataframe\">\n",
       "  <thead>\n",
       "    <tr style=\"text-align: right;\">\n",
       "      <th></th>\n",
       "      <th>label</th>\n",
       "      <th>content</th>\n",
       "    </tr>\n",
       "  </thead>\n",
       "  <tbody>\n",
       "    <tr>\n",
       "      <th>0</th>\n",
       "      <td>0</td>\n",
       "      <td>马晓旭意外受伤让国奥警惕 无奈大雨格外青睐殷家军记者傅亚雨沈阳报道 来到沈阳，国奥队依然没有...</td>\n",
       "    </tr>\n",
       "    <tr>\n",
       "      <th>1</th>\n",
       "      <td>0</td>\n",
       "      <td>商瑞华首战复仇心切 中国玫瑰要用美国方式攻克瑞典多曼来了，瑞典来了，商瑞华首战求3分的信心也...</td>\n",
       "    </tr>\n",
       "    <tr>\n",
       "      <th>2</th>\n",
       "      <td>0</td>\n",
       "      <td>冠军球队迎新欢乐派对 黄旭获大奖张军赢下PK赛新浪体育讯12月27日晚，“冠军高尔夫球队迎新...</td>\n",
       "    </tr>\n",
       "    <tr>\n",
       "      <th>3</th>\n",
       "      <td>0</td>\n",
       "      <td>辽足签约危机引注册难关 高层威逼利诱合同笑里藏刀新浪体育讯2月24日，辽足爆发了集体拒签风波...</td>\n",
       "    </tr>\n",
       "    <tr>\n",
       "      <th>4</th>\n",
       "      <td>0</td>\n",
       "      <td>揭秘谢亚龙被带走：总局电话骗局 复制南杨轨迹体坛周报特约记者张锐北京报道  谢亚龙已经被公安...</td>\n",
       "    </tr>\n",
       "  </tbody>\n",
       "</table>\n",
       "</div>"
      ]
     },
     "execution_count": 5,
     "metadata": {},
     "output_type": "execute_result"
    }
   ],
   "execution_count": 5
  },
  {
   "metadata": {
    "ExecuteTime": {
     "end_time": "2025-03-13T09:12:18.062036Z",
     "start_time": "2025-03-13T09:12:17.628675Z"
    }
   },
   "cell_type": "code",
   "source": [
    "# 将转换结果保存为新的CSV文件\n",
    "train_data.to_csv('D:\\project\\data\\\\train_data_v1.csv', sep='\\t', index=False)\n",
    "val_data.to_csv('D:\\project\\data\\\\val_data_v1.csv', sep='\\t', index=False)\n",
    "test_data.to_csv('D:\\project\\data\\\\test_data_v1.csv', sep='\\t', index=False)"
   ],
   "id": "d90bdc1de5dfe062",
   "outputs": [],
   "execution_count": 6
  },
  {
   "metadata": {},
   "cell_type": "markdown",
   "source": "## 对新闻内容进行jieba分词\n",
   "id": "7ca9e088ecaebf03"
  },
  {
   "metadata": {
    "ExecuteTime": {
     "end_time": "2025-03-15T06:32:24.892727Z",
     "start_time": "2025-03-15T06:31:04.582044Z"
    }
   },
   "cell_type": "code",
   "source": [
    "# 分词并去除停用词\n",
    "import jieba\n",
    "import pandas as pd\n",
    "# 读取数据集\n",
    "train_data = pd.read_csv('D:\\project\\data\\\\train_data_v1.csv', sep='\\t')\n",
    "val_data = pd.read_csv('D:\\project\\data\\\\val_data_v1.csv', sep='\\t')\n",
    "test_data = pd.read_csv('D:\\project\\data\\\\test_data_v1.csv', sep='\\t')\n",
    "# 加载停用词表\n",
    "stopwords = set()\n",
    "with open('D:\\project\\data\\\\stopwords.txt', 'r', encoding='utf-8') as f:\n",
    "    for line in f:\n",
    "        stopwords.add(line.strip())\n",
    "# 对文本进行分词并去除停用词\n",
    "def tokenize(text):\n",
    "    words = jieba.lcut(text)\n",
    "    words = [word for word in words if word not in stopwords]\n",
    "    return ' '.join(words)\n",
    "\n",
    "train_data[\"content\"] = train_data[\"content\"].apply(tokenize)\n",
    "val_data[\"content\"] = val_data[\"content\"].apply(tokenize)\n",
    "test_data[\"content\"] = test_data[\"content\"].apply(tokenize)\n",
    "train_data.head()"
   ],
   "id": "b17f2a8faba8854",
   "outputs": [
    {
     "data": {
      "text/plain": [
       "   label                                            content\n",
       "0      0  马晓旭 意外 受伤 国奥 警惕   无奈 大雨 青睐 殷家 军 记者 傅亚雨 沈阳 报道  ...\n",
       "1      0  商瑞华 首战 复仇 心切   中国 玫瑰 美国 方式 攻克 瑞典 多曼来 瑞典 商瑞华 首战...\n",
       "2      0  冠军 球队 迎新 欢乐 派对   黄旭获 大奖 张军 赢 PK 赛 新浪 体育讯 12 月 ...\n",
       "3      0  辽足 签约 危机 引 注册 难关   高层 威逼利诱 合同 笑里藏刀 新浪 体育讯 月 24...\n",
       "4      0  揭秘 谢亚龙 带走 总局 电话 骗局   复制 南杨 轨迹 体坛周报 特约记者 张锐 北京 ..."
      ],
      "text/html": [
       "<div>\n",
       "<style scoped>\n",
       "    .dataframe tbody tr th:only-of-type {\n",
       "        vertical-align: middle;\n",
       "    }\n",
       "\n",
       "    .dataframe tbody tr th {\n",
       "        vertical-align: top;\n",
       "    }\n",
       "\n",
       "    .dataframe thead th {\n",
       "        text-align: right;\n",
       "    }\n",
       "</style>\n",
       "<table border=\"1\" class=\"dataframe\">\n",
       "  <thead>\n",
       "    <tr style=\"text-align: right;\">\n",
       "      <th></th>\n",
       "      <th>label</th>\n",
       "      <th>content</th>\n",
       "    </tr>\n",
       "  </thead>\n",
       "  <tbody>\n",
       "    <tr>\n",
       "      <th>0</th>\n",
       "      <td>0</td>\n",
       "      <td>马晓旭 意外 受伤 国奥 警惕   无奈 大雨 青睐 殷家 军 记者 傅亚雨 沈阳 报道  ...</td>\n",
       "    </tr>\n",
       "    <tr>\n",
       "      <th>1</th>\n",
       "      <td>0</td>\n",
       "      <td>商瑞华 首战 复仇 心切   中国 玫瑰 美国 方式 攻克 瑞典 多曼来 瑞典 商瑞华 首战...</td>\n",
       "    </tr>\n",
       "    <tr>\n",
       "      <th>2</th>\n",
       "      <td>0</td>\n",
       "      <td>冠军 球队 迎新 欢乐 派对   黄旭获 大奖 张军 赢 PK 赛 新浪 体育讯 12 月 ...</td>\n",
       "    </tr>\n",
       "    <tr>\n",
       "      <th>3</th>\n",
       "      <td>0</td>\n",
       "      <td>辽足 签约 危机 引 注册 难关   高层 威逼利诱 合同 笑里藏刀 新浪 体育讯 月 24...</td>\n",
       "    </tr>\n",
       "    <tr>\n",
       "      <th>4</th>\n",
       "      <td>0</td>\n",
       "      <td>揭秘 谢亚龙 带走 总局 电话 骗局   复制 南杨 轨迹 体坛周报 特约记者 张锐 北京 ...</td>\n",
       "    </tr>\n",
       "  </tbody>\n",
       "</table>\n",
       "</div>"
      ]
     },
     "execution_count": 10,
     "metadata": {},
     "output_type": "execute_result"
    }
   ],
   "execution_count": 10
  },
  {
   "metadata": {
    "ExecuteTime": {
     "end_time": "2025-03-15T06:32:31.664508Z",
     "start_time": "2025-03-15T06:32:31.641548Z"
    }
   },
   "cell_type": "code",
   "source": "train_data.head()",
   "id": "b472ae8c440abf61",
   "outputs": [
    {
     "data": {
      "text/plain": [
       "   label                                            content\n",
       "0      0  马晓旭 意外 受伤 国奥 警惕   无奈 大雨 青睐 殷家 军 记者 傅亚雨 沈阳 报道  ...\n",
       "1      0  商瑞华 首战 复仇 心切   中国 玫瑰 美国 方式 攻克 瑞典 多曼来 瑞典 商瑞华 首战...\n",
       "2      0  冠军 球队 迎新 欢乐 派对   黄旭获 大奖 张军 赢 PK 赛 新浪 体育讯 12 月 ...\n",
       "3      0  辽足 签约 危机 引 注册 难关   高层 威逼利诱 合同 笑里藏刀 新浪 体育讯 月 24...\n",
       "4      0  揭秘 谢亚龙 带走 总局 电话 骗局   复制 南杨 轨迹 体坛周报 特约记者 张锐 北京 ..."
      ],
      "text/html": [
       "<div>\n",
       "<style scoped>\n",
       "    .dataframe tbody tr th:only-of-type {\n",
       "        vertical-align: middle;\n",
       "    }\n",
       "\n",
       "    .dataframe tbody tr th {\n",
       "        vertical-align: top;\n",
       "    }\n",
       "\n",
       "    .dataframe thead th {\n",
       "        text-align: right;\n",
       "    }\n",
       "</style>\n",
       "<table border=\"1\" class=\"dataframe\">\n",
       "  <thead>\n",
       "    <tr style=\"text-align: right;\">\n",
       "      <th></th>\n",
       "      <th>label</th>\n",
       "      <th>content</th>\n",
       "    </tr>\n",
       "  </thead>\n",
       "  <tbody>\n",
       "    <tr>\n",
       "      <th>0</th>\n",
       "      <td>0</td>\n",
       "      <td>马晓旭 意外 受伤 国奥 警惕   无奈 大雨 青睐 殷家 军 记者 傅亚雨 沈阳 报道  ...</td>\n",
       "    </tr>\n",
       "    <tr>\n",
       "      <th>1</th>\n",
       "      <td>0</td>\n",
       "      <td>商瑞华 首战 复仇 心切   中国 玫瑰 美国 方式 攻克 瑞典 多曼来 瑞典 商瑞华 首战...</td>\n",
       "    </tr>\n",
       "    <tr>\n",
       "      <th>2</th>\n",
       "      <td>0</td>\n",
       "      <td>冠军 球队 迎新 欢乐 派对   黄旭获 大奖 张军 赢 PK 赛 新浪 体育讯 12 月 ...</td>\n",
       "    </tr>\n",
       "    <tr>\n",
       "      <th>3</th>\n",
       "      <td>0</td>\n",
       "      <td>辽足 签约 危机 引 注册 难关   高层 威逼利诱 合同 笑里藏刀 新浪 体育讯 月 24...</td>\n",
       "    </tr>\n",
       "    <tr>\n",
       "      <th>4</th>\n",
       "      <td>0</td>\n",
       "      <td>揭秘 谢亚龙 带走 总局 电话 骗局   复制 南杨 轨迹 体坛周报 特约记者 张锐 北京 ...</td>\n",
       "    </tr>\n",
       "  </tbody>\n",
       "</table>\n",
       "</div>"
      ]
     },
     "execution_count": 11,
     "metadata": {},
     "output_type": "execute_result"
    }
   ],
   "execution_count": 11
  },
  {
   "metadata": {
    "ExecuteTime": {
     "end_time": "2025-03-15T06:32:33.386334Z",
     "start_time": "2025-03-15T06:32:33.365592Z"
    }
   },
   "cell_type": "code",
   "source": "test_data.head()",
   "id": "698499e85056371",
   "outputs": [
    {
     "data": {
      "text/plain": [
       "   label                                            content\n",
       "0      0  鲍勃 库西 奖归 属   NCAA 最强 控卫 坎巴 弗神 新浪 体育讯 本赛季 NCAA ...\n",
       "1      0  麦基 砍 28 18 充满 寂寞   纪录 之夜 痛 阿联 懂 新浪 体育讯 上天 公平 贾...\n",
       "2      0  黄蜂 vs 湖人 首发 科比 冲击 连胜   火箭 两旧 登场 新浪 体育讯 北京 时间 月...\n",
       "3      0  双面 谢亚龙 作秀 终成 做作   低劣 行政 能力 埋单 任命 谢亚龙 放纵 谢亚龙 谢亚...\n",
       "4      0  兔年 首战 山西 换帅 虎胆   张学文 乔丹 名言 励志 今晚 客场 挑战 浙江 稠州 银..."
      ],
      "text/html": [
       "<div>\n",
       "<style scoped>\n",
       "    .dataframe tbody tr th:only-of-type {\n",
       "        vertical-align: middle;\n",
       "    }\n",
       "\n",
       "    .dataframe tbody tr th {\n",
       "        vertical-align: top;\n",
       "    }\n",
       "\n",
       "    .dataframe thead th {\n",
       "        text-align: right;\n",
       "    }\n",
       "</style>\n",
       "<table border=\"1\" class=\"dataframe\">\n",
       "  <thead>\n",
       "    <tr style=\"text-align: right;\">\n",
       "      <th></th>\n",
       "      <th>label</th>\n",
       "      <th>content</th>\n",
       "    </tr>\n",
       "  </thead>\n",
       "  <tbody>\n",
       "    <tr>\n",
       "      <th>0</th>\n",
       "      <td>0</td>\n",
       "      <td>鲍勃 库西 奖归 属   NCAA 最强 控卫 坎巴 弗神 新浪 体育讯 本赛季 NCAA ...</td>\n",
       "    </tr>\n",
       "    <tr>\n",
       "      <th>1</th>\n",
       "      <td>0</td>\n",
       "      <td>麦基 砍 28 18 充满 寂寞   纪录 之夜 痛 阿联 懂 新浪 体育讯 上天 公平 贾...</td>\n",
       "    </tr>\n",
       "    <tr>\n",
       "      <th>2</th>\n",
       "      <td>0</td>\n",
       "      <td>黄蜂 vs 湖人 首发 科比 冲击 连胜   火箭 两旧 登场 新浪 体育讯 北京 时间 月...</td>\n",
       "    </tr>\n",
       "    <tr>\n",
       "      <th>3</th>\n",
       "      <td>0</td>\n",
       "      <td>双面 谢亚龙 作秀 终成 做作   低劣 行政 能力 埋单 任命 谢亚龙 放纵 谢亚龙 谢亚...</td>\n",
       "    </tr>\n",
       "    <tr>\n",
       "      <th>4</th>\n",
       "      <td>0</td>\n",
       "      <td>兔年 首战 山西 换帅 虎胆   张学文 乔丹 名言 励志 今晚 客场 挑战 浙江 稠州 银...</td>\n",
       "    </tr>\n",
       "  </tbody>\n",
       "</table>\n",
       "</div>"
      ]
     },
     "execution_count": 12,
     "metadata": {},
     "output_type": "execute_result"
    }
   ],
   "execution_count": 12
  },
  {
   "metadata": {
    "ExecuteTime": {
     "end_time": "2025-03-15T06:32:38.012806Z",
     "start_time": "2025-03-15T06:32:37.317348Z"
    }
   },
   "cell_type": "code",
   "source": [
    "# 将分词结果保存为新的CSV文件\n",
    "train_data.to_csv('D:\\project\\data\\\\train_data_jieba.csv', sep='\\t', index=False)\n",
    "val_data.to_csv('D:\\project\\data\\\\val_data_jieba.csv', sep='\\t', index=False)\n",
    "test_data.to_csv('D:\\project\\data\\\\test_data_jieba.csv', sep='\\t', index=False)"
   ],
   "id": "720db77b9b7dcfb5",
   "outputs": [],
   "execution_count": 13
  },
  {
   "metadata": {
    "ExecuteTime": {
     "end_time": "2025-03-15T06:33:10.419794Z",
     "start_time": "2025-03-15T06:33:00.586311Z"
    }
   },
   "cell_type": "code",
   "source": [
    "import pandas as pd\n",
    "from sklearn.feature_extraction.text import TfidfVectorizer\n",
    "# 合并所有content以构建词汇表\n",
    "all_content = pd.concat([train_data[\"content\"], val_data[\"content\"], test_data[\"content\"]])\n",
    "# 构建TF-IDF模型\n",
    "vectorizer = TfidfVectorizer()\n",
    "vectorizer.fit(all_content)\n",
    "# 向量化训练集、验证集和测试集\n",
    "train_features = vectorizer.transform(train_data[\"content\"])\n",
    "val_features = vectorizer.transform(val_data[\"content\"])\n",
    "test_features = vectorizer.transform(test_data[\"content\"])\n",
    "# 打印特征向量的形状\n",
    "print(\"训练集特征向量形状：\", train_features.shape)\n",
    "print(\"验证集特征向量形状：\", val_features.shape)\n",
    "print(\"测试集特征向量形状：\", test_features.shape)\n"
   ],
   "id": "70ddbdd767b73870",
   "outputs": [
    {
     "name": "stdout",
     "output_type": "stream",
     "text": [
      "训练集特征向量形状： (24000, 242294)\n",
      "验证集特征向量形状： (3000, 242294)\n",
      "测试集特征向量形状： (3000, 242294)\n"
     ]
    }
   ],
   "execution_count": 14
  },
  {
   "metadata": {
    "ExecuteTime": {
     "end_time": "2025-03-15T06:33:22.737942Z",
     "start_time": "2025-03-15T06:33:22.722575Z"
    }
   },
   "cell_type": "code",
   "source": [
    "# 获取标签\n",
    "train_labels = train_data[\"label\"]\n",
    "val_labels = val_data[\"label\"]\n",
    "test_labels = test_data[\"label\"]\n",
    "# 打印标签的形状\n",
    "print(\"训练集标签形状：\", train_labels.shape)\n",
    "print(\"验证集标签形状：\", val_labels.shape)\n",
    "print(\"测试集标签形状：\", test_labels.shape)\n",
    "\n",
    "# 输出标签前五项\n",
    "print(\"训练集标签前五项：\", train_labels[:5])\n",
    "print(\"验证集标签前五项：\", val_labels[:5])\n",
    "print(\"测试集标签前五项：\", test_labels[:5])"
   ],
   "id": "d72c683cfe442da7",
   "outputs": [
    {
     "name": "stdout",
     "output_type": "stream",
     "text": [
      "训练集标签形状： (24000,)\n",
      "验证集标签形状： (3000,)\n",
      "测试集标签形状： (3000,)\n",
      "训练集标签前五项： 0    0\n",
      "1    0\n",
      "2    0\n",
      "3    0\n",
      "4    0\n",
      "Name: label, dtype: int64\n",
      "验证集标签前五项： 0    0\n",
      "1    0\n",
      "2    0\n",
      "3    0\n",
      "4    0\n",
      "Name: label, dtype: int64\n",
      "测试集标签前五项： 0    0\n",
      "1    0\n",
      "2    0\n",
      "3    0\n",
      "4    0\n",
      "Name: label, dtype: int64\n"
     ]
    }
   ],
   "execution_count": 15
  },
  {
   "metadata": {
    "ExecuteTime": {
     "end_time": "2025-03-15T06:33:35.044400Z",
     "start_time": "2025-03-15T06:33:32.316608Z"
    }
   },
   "cell_type": "code",
   "source": [
    "# 保存特征向量和标签\n",
    "import scipy.sparse as sp\n",
    "import numpy as np\n",
    "sp.save_npz('D:\\project\\data\\\\train_features.npz', train_features)\n",
    "sp.save_npz('D:\\project\\data\\\\val_features.npz', val_features)\n",
    "sp.save_npz('D:\\project\\data\\\\test_features.npz', test_features)\n",
    "np.save('D:\\project\\data\\\\train_labels.npy', train_labels)\n",
    "np.save('D:\\project\\data\\\\val_labels.npy', val_labels)\n",
    "np.save('D:\\project\\data\\\\test_labels.npy', test_labels)"
   ],
   "id": "2b43529011403b2f",
   "outputs": [],
   "execution_count": 16
  },
  {
   "metadata": {
    "ExecuteTime": {
     "end_time": "2025-03-15T06:33:40.052206Z",
     "start_time": "2025-03-15T06:33:39.671040Z"
    }
   },
   "cell_type": "code",
   "source": [
    "# 加载特征向量和标签\n",
    "import scipy.sparse as sp\n",
    "import numpy as np\n",
    "train_features = sp.load_npz('D:\\project\\data\\\\train_features.npz')\n",
    "val_features = sp.load_npz('D:\\project\\data\\\\val_features.npz')\n",
    "test_features = sp.load_npz('D:\\project\\data\\\\test_features.npz')\n",
    "train_labels = np.load('D:\\project\\data\\\\train_labels.npy')\n",
    "val_labels = np.load('D:\\project\\data\\\\val_labels.npy')\n",
    "test_labels = np.load('D:\\project\\data\\\\test_labels.npy')"
   ],
   "id": "3ef7803e59cfd169",
   "outputs": [],
   "execution_count": 17
  },
  {
   "metadata": {
    "ExecuteTime": {
     "end_time": "2025-03-15T06:44:31.867621Z",
     "start_time": "2025-03-15T06:44:30.463760Z"
    }
   },
   "cell_type": "code",
   "source": [
    "from sklearn.svm import LinearSVC\n",
    "\n",
    "# 显式设置dual=True\n",
    "svm_classifier = LinearSVC(dual=True)\n",
    "svm_classifier.fit(train_features, train_labels)\n",
    "\n",
    "# 预测验证集和测试集的标签\n",
    "train_predictions = svm_classifier.predict(train_features)\n",
    "val_predictions = svm_classifier.predict(val_features)\n",
    "test_predictions = svm_classifier.predict(test_features)\n",
    "\n",
    "# 计算准确率\n",
    "\n",
    "train_accuracy = np.mean(train_predictions == train_labels)\n",
    "val_accuracy = np.mean(val_predictions == val_labels)\n",
    "test_accuracy = np.mean(test_predictions == test_labels)\n",
    "# 输出准确率\n",
    "print(\"训练集准确率：\", train_accuracy)\n",
    "print(\"验证集准确率：\", val_accuracy)\n",
    "print(\"测试集准确率：\", test_accuracy)"
   ],
   "id": "c8dca2f0fba491da",
   "outputs": [
    {
     "name": "stdout",
     "output_type": "stream",
     "text": [
      "训练集准确率： 0.9989166666666667\n",
      "验证集准确率： 0.9186666666666666\n",
      "测试集准确率： 0.91\n"
     ]
    }
   ],
   "execution_count": 20
  },
  {
   "metadata": {
    "ExecuteTime": {
     "end_time": "2025-03-15T06:46:11.364174Z",
     "start_time": "2025-03-15T06:46:11.075383Z"
    }
   },
   "cell_type": "code",
   "source": [
    "# 输出文本分类结果 红平均 微平均 混淆矩阵\n",
    "from sklearn.svm import LinearSVC\n",
    "from sklearn.metrics import precision_score, recall_score, f1_score, confusion_matrix\n",
    "import numpy as np\n",
    "import seaborn as sns\n",
    "import matplotlib.pyplot as plt\n",
    "# 设置中文字体\n",
    "plt.rcParams['font.sans-serif'] = ['SimHei']  # 使用黑体\n",
    "plt.rcParams['axes.unicode_minus'] = False  # 解决负号显示问题\n",
    "\n",
    "# 计算宏平均\n",
    "macro_precision = precision_score(val_labels, val_predictions, average='macro')\n",
    "macro_recall = recall_score(val_labels, val_predictions, average='macro')\n",
    "macro_f1 = f1_score(val_labels, val_predictions, average='macro')\n",
    "print(\"宏平均精确率：\", macro_precision)\n",
    "print(\"宏平均召回率：\", macro_recall)\n",
    "print(\"宏平均F1分数：\", macro_f1)\n",
    "\n",
    "# 计算微平均\n",
    "micro_precision = precision_score(val_labels, val_predictions, average='micro')\n",
    "micro_recall = recall_score(val_labels, val_predictions, average='micro')\n",
    "micro_f1 = f1_score(val_labels, val_predictions, average='micro')\n",
    "print(\"微平均精确率：\", micro_precision)\n",
    "print(\"微平均召回率：\", micro_recall)\n",
    "print(\"微平均F1分数：\", micro_f1)\n",
    "\n",
    "# 计算混淆矩阵\n",
    "conf_matrix = confusion_matrix(val_labels, val_predictions)\n",
    "selected_categories = [\"体育\", \"财经\", \"房产\", \"家居\", \"教育\", \"科技\"]\n",
    "# 可视化混淆矩阵\n",
    "plt.figure(figsize=(10, 8))\n",
    "sns.heatmap(conf_matrix, annot=True, fmt='d', cmap='Blues', xticklabels=selected_categories, yticklabels=selected_categories)\n",
    "plt.xlabel('预测标签')\n",
    "plt.ylabel('真实标签')\n",
    "plt.title('混淆矩阵')\n",
    "plt.show()\n"
   ],
   "id": "3c38d36c73e317c9",
   "outputs": [
    {
     "name": "stdout",
     "output_type": "stream",
     "text": [
      "宏平均精确率： 0.9246659411608927\n",
      "宏平均召回率： 0.9186666666666667\n",
      "宏平均F1分数： 0.9150449268953943\n",
      "微平均精确率： 0.9186666666666666\n",
      "微平均召回率： 0.9186666666666666\n",
      "微平均F1分数： 0.9186666666666666\n"
     ]
    },
    {
     "data": {
      "text/plain": [
       "<Figure size 1000x800 with 2 Axes>"
      ],
      "image/png": "[encoded data removed]"
     },
     "metadata": {},
     "output_type": "display_data"
    }
   ],
   "execution_count": 22
  },
  {
   "metadata": {},
   "cell_type": "code",
   "outputs": [],
   "execution_count": null,
   "source": [
    "# 加载特征向量和标签\n",
    "import scipy.sparse as sp\n",
    "import numpy as np\n",
    "train_features = sp.load_npz('D:\\project\\data\\\\train_features.npz')\n",
    "val_features = sp.load_npz('D:\\project\\data\\\\val_features.npz')\n",
    "test_features = sp.load_npz('D:\\project\\data\\\\test_features.npz')\n",
    "train_labels = sp.load_npz('D:\\project\\data\\\\train_labels.npz')\n",
    "val_labels = sp.load_npz('D:\\project\\data\\\\val_labels.npz')\n",
    "test_labels = sp.load_npz('D:\\project\\data\\\\test_labels.npz')"
   ],
   "id": "ee3d6b10df9bc127"
  },
  {
   "metadata": {
    "ExecuteTime": {
     "end_time": "2025-03-15T06:59:23.244019Z",
     "start_time": "2025-03-15T06:59:22.987710Z"
    }
   },
   "cell_type": "code",
   "source": [
    "# 运用多项式朴素贝叶斯（Multinomial Naive Bayes）进行文本分类：适合处理离散特征（如词频或 TF-IDF）\n",
    "from sklearn.naive_bayes import MultinomialNB\n",
    "from sklearn.metrics import accuracy_score, precision_score, recall_score, f1_score, confusion_matrix\n",
    "import matplotlib.pyplot as plt\n",
    "import seaborn as sns\n",
    "# 设置中文字体\n",
    "plt.rcParams['font.sans-serif'] = ['SimHei']  # 使用黑体\n",
    "plt.rcParams['axes.unicode_minus'] = False  # 解决负号显示问题\n",
    "# 初始化多项式朴素贝叶斯分类器\n",
    "nb_classifier = MultinomialNB() # 初始化多项式朴素贝叶斯分类器\n",
    "# 训练分类器\n",
    "nb_classifier.fit(train_features, train_labels) # 训练分类器\n",
    "# 预测测试集、验证集和测试集的标签\n",
    "train_predictions = nb_classifier.predict(train_features)\n",
    "val_predictions = nb_classifier.predict(val_features)\n",
    "test_predictions = nb_classifier.predict(test_features)\n",
    "# 计算准确率\n",
    "train_accuracy = accuracy_score(train_labels, train_predictions)\n",
    "val_accuracy = accuracy_score(val_labels, val_predictions)\n",
    "test_accuracy = accuracy_score(test_labels, test_predictions)\n",
    "# 输出准确率\n",
    "print(\"训练集准确率：\", train_accuracy)\n",
    "print(\"验证集准确率：\", val_accuracy)\n",
    "print(\"测试集准确率：\", test_accuracy)\n",
    "# 计算宏平均\n",
    "macro_precision = precision_score(val_labels, val_predictions, average='macro')\n",
    "macro_recall = recall_score(val_labels, val_predictions, average='macro')\n",
    "macro_f1 = f1_score(val_labels, val_predictions, average='macro')\n",
    "print(\"宏平均精确率：\", macro_precision)\n",
    "print(\"宏平均召回率：\", macro_recall)\n",
    "print(\"宏平均F1分数：\", macro_f1)\n",
    "micro_precision = precision_score(val_labels, val_predictions, average='micro')\n",
    "micro_recall = recall_score(val_labels, val_predictions, average='micro')\n",
    "micro_f1 = f1_score(val_labels, val_predictions, average='micro')\n",
    "print(\"微平均精确率：\", micro_precision)\n",
    "print(\"微平均召回率：\", micro_recall)\n",
    "print(\"微平均F1分数：\", micro_f1)\n",
    "# 计算混淆矩阵\n",
    "selected_categories = [\"体育\", \"财经\", \"房产\", \"家居\", \"教育\", \"科技\"]\n",
    "conf_matrix = confusion_matrix(val_labels, val_predictions)\n",
    "# 可视化混淆矩阵\n",
    "plt.figure(figsize=(10, 8))\n",
    "sns.heatmap(conf_matrix, annot=True, fmt='d', cmap='Blues', xticklabels=selected_categories, yticklabels=selected_categories)\n",
    "plt.xlabel('预测标签')\n",
    "plt.ylabel('真实标签')\n",
    "plt.title('混淆矩阵')\n",
    "plt.show()"
   ],
   "id": "def5eee48b81c65b",
   "outputs": [
    {
     "name": "stdout",
     "output_type": "stream",
     "text": [
      "训练集准确率： 0.9690833333333333\n",
      "验证集准确率： 0.86\n",
      "测试集准确率： 0.8483333333333334\n",
      "宏平均精确率： 0.8943919726348799\n",
      "宏平均召回率： 0.8599999999999999\n",
      "宏平均F1分数： 0.83604360954812\n",
      "微平均精确率： 0.86\n",
      "微平均召回率： 0.86\n",
      "微平均F1分数： 0.8599999999999999\n"
     ]
    },
    {
     "data": {
      "text/plain": [
       "<Figure size 1000x800 with 2 Axes>"
      ],
      "image/png": "[encoded data removed]"
     },
     "metadata": {},
     "output_type": "display_data"
    }
   ],
   "execution_count": 23
  },
  {
   "metadata": {},
   "cell_type": "code",
   "outputs": [],
   "execution_count": null,
   "source": [
    "def model_train_predict(classifier):\n",
    "    from sklearn.naive_bayes import MultinomialNB\n",
    "    from sklearn.metrics import accuracy_score, precision_score, recall_score, f1_score, confusion_matrix\n",
    "    import matplotlib.pyplot as plt\n",
    "    import seaborn as sns\n",
    "    import scipy.sparse as sp\n",
    "    import numpy as np\n",
    "    # 加载特征向量和标签\n",
    "    train_features = sp.load_npz('D:\\project\\data\\\\train_features.npz')\n",
    "    val_features = sp.load_npz('D:\\project\\data\\\\val_features.npz')\n",
    "    test_features = sp.load_npz('D:\\project\\data\\\\test_features.npz')\n",
    "    train_labels = sp.load_npz('D:\\project\\data\\\\train_labels.npz')\n",
    "    val_labels = sp.load_npz('D:\\project\\data\\\\val_labels.npz')\n",
    "    test_labels = sp.load_npz('D:\\project\\data\\\\test_labels.npz')\n",
    "    # 设置中文字体\n",
    "    plt.rcParams['font.sans-serif'] = ['SimHei']  # 使用黑体\n",
    "    plt.rcParams['axes.unicode_minus'] = False  # 解决负号显示问题\n",
    "    # 初始化多项式朴素贝叶斯分类器\n",
    "    nb_classifier = classifier # 初始化多项式朴素贝叶斯分类器\n",
    "    # 训练分类器\n",
    "    nb_classifier.fit(train_features, train_labels) # 训练分类器\n",
    "    # 预测测试集、验证集和测试集的标签\n",
    "    train_predictions = nb_classifier.predict(train_features)\n",
    "    val_predictions = nb_classifier.predict(val_features)\n",
    "    test_predictions = nb_classifier.predict(test_features)\n",
    "    # 计算准确率\n",
    "    train_accuracy = accuracy_score(train_labels, train_predictions)\n",
    "    val_accuracy = accuracy_score(val_labels, val_predictions)\n",
    "    test_accuracy = accuracy_score(test_labels, test_predictions)\n",
    "    # 输出准确率\n",
    "    print(\"训练集准确率：\", train_accuracy)\n",
    "    print(\"验证集准确率：\", val_accuracy)\n",
    "    print(\"测试集准确率：\", test_accuracy)\n",
    "    # 计算宏平均\n",
    "    macro_precision = precision_score(val_labels, val_predictions, average='macro')\n",
    "    macro_recall = recall_score(val_labels, val_predictions, average='macro')\n",
    "    macro_f1 = f1_score(val_labels, val_predictions, average='macro')\n",
    "    print(\"宏平均精确率：\", macro_precision)\n",
    "    print(\"宏平均召回率：\", macro_recall)\n",
    "    print(\"宏平均F1分数：\", macro_f1)\n",
    "    micro_precision = precision_score(val_labels, val_predictions, average='micro')\n",
    "    micro_recall = recall_score(val_labels, val_predictions, average='micro')\n",
    "    micro_f1 = f1_score(val_labels, val_predictions, average='micro')\n",
    "    print(\"微平均精确率：\", micro_precision)\n",
    "    print(\"微平均召回率：\", micro_recall)\n",
    "    print(\"微平均F1分数：\", micro_f1)\n",
    "    # 计算混淆矩阵\n",
    "    selected_categories = [\"体育\", \"财经\", \"房产\", \"家居\", \"教育\", \"科技\"]\n",
    "    conf_matrix = confusion_matrix(val_labels, val_predictions)\n",
    "    # 可视化混淆矩阵\n",
    "    plt.figure(figsize=(10, 8))\n",
    "    sns.heatmap(conf_matrix, annot=True, fmt='d', cmap='Blues', xticklabels=selected_categories, yticklabels=selected_categories)\n",
    "    plt.xlabel('预测标签')\n",
    "    plt.ylabel('真实标签')\n",
    "    plt.title('混淆矩阵')\n",
    "    plt.show()"
   ],
   "id": "bd8b7789f452632c"
  }
 ],
 "metadata": {
  "kernelspec": {
   "display_name": "Python 3 (ipykernel)",
   "language": "python",
   "name": "python3"
  },
  "language_info": {
   "codemirror_mode": {
    "name": "ipython",
    "version": 3
   },
   "file_extension": ".py",
   "mimetype": "text/x-python",
   "name": "python",
   "nbconvert_exporter": "python",
   "pygments_lexer": "ipython3",
   "version": "3.13.2"
  }
 },
 "nbformat": 4,
 "nbformat_minor": 5
}
