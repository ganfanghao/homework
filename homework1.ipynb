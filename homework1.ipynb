{
 "cells": [
  {
   "cell_type": "markdown",
   "id": "b18976c7f12bb312",
   "metadata": {},
   "source": [
    "# 中文文本分类-THUCNews数据集"
   ]
  },
  {
   "cell_type": "markdown",
   "id": "6e3e09daabc7226e",
   "metadata": {},
   "source": [
    "## 数据说明与初步处理\n",
    "### 数据集下载\n",
    "本文采用了清华NLP组提供的THUCNews新闻文本分类数据集的子集\n",
    "数据下载链接：\n",
    "THUCNews数据子集：https://pan.baidu.com/s/1hugrfRu 密码：qfud\n",
    "\n",
    "### 数据量\n",
    "该数据集使用了其中的10个分类，每个分类6500条，总共65000条新闻数据。\n",
    "类别如下：体育, 财经, 房产, 家居, 教育, 科技, 时尚, 时政, 游戏, 娱乐\n",
    "数据集共有三个文件，如下：\n",
    "cnews.train.txt: 训练集(500010条)\n",
    "cnews.val.txt: 验证集(50010条)\n",
    "cnews.test.txt: 测试集(1000*10条)\n",
    "\n",
    "原文链接：https://blog.csdn.net/qq_36047533/article/details/88360833"
   ]
  },
  {
   "cell_type": "code",
   "id": "cace10f1e90a8b9f",
   "metadata": {
    "ExecuteTime": {
     "end_time": "2025-03-12T11:50:07.284014Z",
     "start_time": "2025-03-12T11:50:05.990627Z"
    }
   },
   "source": [
    "import pandas as pd\n",
    "train_data=pd.read_csv('D:\\project\\data\\cnews.train.txt',sep='\\t',names=['label','content'])\n",
    "test_data=pd.read_csv('D:\\project\\data\\cnews.test.txt',sep='\\t',names=['label','content'])\n",
    "val_data=pd.read_csv(\"D:\\project\\data\\cnews.val.txt\",sep='\\t',names=['label','content'])\n",
    "train_data.info()"
   ],
   "outputs": [
    {
     "name": "stdout",
     "output_type": "stream",
     "text": [
      "<class 'pandas.core.frame.DataFrame'>\n",
      "RangeIndex: 50000 entries, 0 to 49999\n",
      "Data columns (total 2 columns):\n",
      " #   Column   Non-Null Count  Dtype \n",
      "---  ------   --------------  ----- \n",
      " 0   label    50000 non-null  object\n",
      " 1   content  50000 non-null  object\n",
      "dtypes: object(2)\n",
      "memory usage: 781.4+ KB\n"
     ]
    }
   ],
   "execution_count": 21
  },
  {
   "cell_type": "code",
   "id": "de3dc81070f58e58",
   "metadata": {
    "ExecuteTime": {
     "end_time": "2025-03-12T11:50:08.896396Z",
     "start_time": "2025-03-12T11:50:08.880908Z"
    }
   },
   "source": "test_data.info()",
   "outputs": [
    {
     "name": "stdout",
     "output_type": "stream",
     "text": [
      "<class 'pandas.core.frame.DataFrame'>\n",
      "RangeIndex: 10000 entries, 0 to 9999\n",
      "Data columns (total 2 columns):\n",
      " #   Column   Non-Null Count  Dtype \n",
      "---  ------   --------------  ----- \n",
      " 0   label    10000 non-null  object\n",
      " 1   content  10000 non-null  object\n",
      "dtypes: object(2)\n",
      "memory usage: 156.4+ KB\n"
     ]
    }
   ],
   "execution_count": 22
  },
  {
   "metadata": {
    "ExecuteTime": {
     "end_time": "2025-03-12T11:50:09.827181Z",
     "start_time": "2025-03-12T11:50:09.811736Z"
    }
   },
   "cell_type": "code",
   "source": "val_data.info()",
   "id": "6d86d93a22ee7add",
   "outputs": [
    {
     "name": "stdout",
     "output_type": "stream",
     "text": [
      "<class 'pandas.core.frame.DataFrame'>\n",
      "RangeIndex: 5000 entries, 0 to 4999\n",
      "Data columns (total 2 columns):\n",
      " #   Column   Non-Null Count  Dtype \n",
      "---  ------   --------------  ----- \n",
      " 0   label    5000 non-null   object\n",
      " 1   content  5000 non-null   object\n",
      "dtypes: object(2)\n",
      "memory usage: 78.2+ KB\n"
     ]
    }
   ],
   "execution_count": 23
  },
  {
   "metadata": {},
   "cell_type": "markdown",
   "source": "## 将数据划分为作业要求的训练集4000\\*6、验证集500\\*6、测试集500\\*6",
   "id": "1318a5332460b20e"
  },
  {
   "metadata": {
    "ExecuteTime": {
     "end_time": "2025-03-12T11:50:12.544452Z",
     "start_time": "2025-03-12T11:50:12.510107Z"
    }
   },
   "cell_type": "code",
   "source": [
    "# target_list 包含要提取的类别\n",
    "target_list = [\"体育\", \"财经\", \"房产\", \"家居\", \"教育\", \"科技\"]\n",
    "\n",
    "# 创建一个空列表来存储每个类别的前4000行\n",
    "dfs = []\n",
    "\n",
    "# 遍历目标类别列表，提取每个类别的前4000行\n",
    "for category in target_list:\n",
    "    category_df = train_data[train_data[\"label\"] == category].iloc[:4000, :]\n",
    "    dfs.append(category_df)\n",
    "\n",
    "# 使用 concat 函数将所有类别提取的数据合并为一个 DataFrame\n",
    "combined_df = pd.concat(dfs, ignore_index=True)\n",
    "combined_df.info()"
   ],
   "id": "8517a2f4d9edce9f",
   "outputs": [
    {
     "name": "stdout",
     "output_type": "stream",
     "text": [
      "<class 'pandas.core.frame.DataFrame'>\n",
      "RangeIndex: 24000 entries, 0 to 23999\n",
      "Data columns (total 2 columns):\n",
      " #   Column   Non-Null Count  Dtype \n",
      "---  ------   --------------  ----- \n",
      " 0   label    24000 non-null  object\n",
      " 1   content  24000 non-null  object\n",
      "dtypes: object(2)\n",
      "memory usage: 375.1+ KB\n"
     ]
    }
   ],
   "execution_count": 24
  },
  {
   "metadata": {
    "ExecuteTime": {
     "end_time": "2025-03-12T11:50:14.289269Z",
     "start_time": "2025-03-12T11:50:14.273620Z"
    }
   },
   "cell_type": "code",
   "source": "combined_df.head()",
   "id": "16d195a5a7aeac05",
   "outputs": [
    {
     "data": {
      "text/plain": [
       "  label                                            content\n",
       "0    体育  马晓旭意外受伤让国奥警惕 无奈大雨格外青睐殷家军记者傅亚雨沈阳报道 来到沈阳，国奥队依然没有...\n",
       "1    体育  商瑞华首战复仇心切 中国玫瑰要用美国方式攻克瑞典多曼来了，瑞典来了，商瑞华首战求3分的信心也...\n",
       "2    体育  冠军球队迎新欢乐派对 黄旭获大奖张军赢下PK赛新浪体育讯12月27日晚，“冠军高尔夫球队迎新...\n",
       "3    体育  辽足签约危机引注册难关 高层威逼利诱合同笑里藏刀新浪体育讯2月24日，辽足爆发了集体拒签风波...\n",
       "4    体育  揭秘谢亚龙被带走：总局电话骗局 复制南杨轨迹体坛周报特约记者张锐北京报道  谢亚龙已经被公安..."
      ],
      "text/html": [
       "<div>\n",
       "<style scoped>\n",
       "    .dataframe tbody tr th:only-of-type {\n",
       "        vertical-align: middle;\n",
       "    }\n",
       "\n",
       "    .dataframe tbody tr th {\n",
       "        vertical-align: top;\n",
       "    }\n",
       "\n",
       "    .dataframe thead th {\n",
       "        text-align: right;\n",
       "    }\n",
       "</style>\n",
       "<table border=\"1\" class=\"dataframe\">\n",
       "  <thead>\n",
       "    <tr style=\"text-align: right;\">\n",
       "      <th></th>\n",
       "      <th>label</th>\n",
       "      <th>content</th>\n",
       "    </tr>\n",
       "  </thead>\n",
       "  <tbody>\n",
       "    <tr>\n",
       "      <th>0</th>\n",
       "      <td>体育</td>\n",
       "      <td>马晓旭意外受伤让国奥警惕 无奈大雨格外青睐殷家军记者傅亚雨沈阳报道 来到沈阳，国奥队依然没有...</td>\n",
       "    </tr>\n",
       "    <tr>\n",
       "      <th>1</th>\n",
       "      <td>体育</td>\n",
       "      <td>商瑞华首战复仇心切 中国玫瑰要用美国方式攻克瑞典多曼来了，瑞典来了，商瑞华首战求3分的信心也...</td>\n",
       "    </tr>\n",
       "    <tr>\n",
       "      <th>2</th>\n",
       "      <td>体育</td>\n",
       "      <td>冠军球队迎新欢乐派对 黄旭获大奖张军赢下PK赛新浪体育讯12月27日晚，“冠军高尔夫球队迎新...</td>\n",
       "    </tr>\n",
       "    <tr>\n",
       "      <th>3</th>\n",
       "      <td>体育</td>\n",
       "      <td>辽足签约危机引注册难关 高层威逼利诱合同笑里藏刀新浪体育讯2月24日，辽足爆发了集体拒签风波...</td>\n",
       "    </tr>\n",
       "    <tr>\n",
       "      <th>4</th>\n",
       "      <td>体育</td>\n",
       "      <td>揭秘谢亚龙被带走：总局电话骗局 复制南杨轨迹体坛周报特约记者张锐北京报道  谢亚龙已经被公安...</td>\n",
       "    </tr>\n",
       "  </tbody>\n",
       "</table>\n",
       "</div>"
      ]
     },
     "execution_count": 25,
     "metadata": {},
     "output_type": "execute_result"
    }
   ],
   "execution_count": 25
  },
  {
   "metadata": {
    "ExecuteTime": {
     "end_time": "2025-03-12T11:50:16.839444Z",
     "start_time": "2025-03-12T11:50:16.491422Z"
    }
   },
   "cell_type": "code",
   "source": [
    "# 将合并后的 DataFrame 保存为用制表符分隔的 CSV 文件\n",
    "combined_df.to_csv('D:\\project\\data\\\\train_data.csv', sep='\\t', index=False)"
   ],
   "id": "d73b1ab937078600",
   "outputs": [],
   "execution_count": 26
  },
  {
   "metadata": {
    "ExecuteTime": {
     "end_time": "2025-03-12T11:50:19.875572Z",
     "start_time": "2025-03-12T11:50:19.861133Z"
    }
   },
   "cell_type": "code",
   "source": [
    "# 创建一个空列表来存储每个类别的前4000行\n",
    "dfs = []\n",
    "# 遍历目标类别列表，提取每个类别的前500行\n",
    "for category in target_list:\n",
    "    category_df = val_data[val_data[\"label\"] == category].iloc[:500, :]\n",
    "    dfs.append(category_df)\n",
    "\n",
    "# 使用 concat 函数将所有类别提取的数据合并为一个 DataFrame\n",
    "combined_df = pd.concat(dfs, ignore_index=True)\n",
    "combined_df.info()"
   ],
   "id": "e5d4ed6685dcce0e",
   "outputs": [
    {
     "name": "stdout",
     "output_type": "stream",
     "text": [
      "<class 'pandas.core.frame.DataFrame'>\n",
      "RangeIndex: 3000 entries, 0 to 2999\n",
      "Data columns (total 2 columns):\n",
      " #   Column   Non-Null Count  Dtype \n",
      "---  ------   --------------  ----- \n",
      " 0   label    3000 non-null   object\n",
      " 1   content  3000 non-null   object\n",
      "dtypes: object(2)\n",
      "memory usage: 47.0+ KB\n"
     ]
    }
   ],
   "execution_count": 27
  },
  {
   "metadata": {
    "ExecuteTime": {
     "end_time": "2025-03-12T11:50:21.238473Z",
     "start_time": "2025-03-12T11:50:21.222803Z"
    }
   },
   "cell_type": "code",
   "source": "combined_df.head()",
   "id": "533257b8bed344aa",
   "outputs": [
    {
     "data": {
      "text/plain": [
       "  label                                            content\n",
       "0    体育  黄蜂vs湖人首发：科比带伤战保罗 加索尔救赎之战 新浪体育讯北京时间4月27日，NBA季后赛...\n",
       "1    体育  1.7秒神之一击救马刺王朝于危难 这个新秀有点牛！新浪体育讯在刚刚结束的比赛中，回到主场的马...\n",
       "2    体育  1人灭掘金！神般杜兰特！ 他想要分的时候没人能挡新浪体育讯在NBA的世界里，真的猛男，敢于直...\n",
       "3    体育  韩国国奥20人名单：朴周永领衔 两世界杯国脚入选新浪体育讯据韩联社首尔9月17日电 韩国国奥...\n",
       "4    体育  天才中锋崇拜王治郅 周琦：球员最终是靠实力说话2月14日从土耳其男篮邀请赛回到北京之后，周琦..."
      ],
      "text/html": [
       "<div>\n",
       "<style scoped>\n",
       "    .dataframe tbody tr th:only-of-type {\n",
       "        vertical-align: middle;\n",
       "    }\n",
       "\n",
       "    .dataframe tbody tr th {\n",
       "        vertical-align: top;\n",
       "    }\n",
       "\n",
       "    .dataframe thead th {\n",
       "        text-align: right;\n",
       "    }\n",
       "</style>\n",
       "<table border=\"1\" class=\"dataframe\">\n",
       "  <thead>\n",
       "    <tr style=\"text-align: right;\">\n",
       "      <th></th>\n",
       "      <th>label</th>\n",
       "      <th>content</th>\n",
       "    </tr>\n",
       "  </thead>\n",
       "  <tbody>\n",
       "    <tr>\n",
       "      <th>0</th>\n",
       "      <td>体育</td>\n",
       "      <td>黄蜂vs湖人首发：科比带伤战保罗 加索尔救赎之战 新浪体育讯北京时间4月27日，NBA季后赛...</td>\n",
       "    </tr>\n",
       "    <tr>\n",
       "      <th>1</th>\n",
       "      <td>体育</td>\n",
       "      <td>1.7秒神之一击救马刺王朝于危难 这个新秀有点牛！新浪体育讯在刚刚结束的比赛中，回到主场的马...</td>\n",
       "    </tr>\n",
       "    <tr>\n",
       "      <th>2</th>\n",
       "      <td>体育</td>\n",
       "      <td>1人灭掘金！神般杜兰特！ 他想要分的时候没人能挡新浪体育讯在NBA的世界里，真的猛男，敢于直...</td>\n",
       "    </tr>\n",
       "    <tr>\n",
       "      <th>3</th>\n",
       "      <td>体育</td>\n",
       "      <td>韩国国奥20人名单：朴周永领衔 两世界杯国脚入选新浪体育讯据韩联社首尔9月17日电 韩国国奥...</td>\n",
       "    </tr>\n",
       "    <tr>\n",
       "      <th>4</th>\n",
       "      <td>体育</td>\n",
       "      <td>天才中锋崇拜王治郅 周琦：球员最终是靠实力说话2月14日从土耳其男篮邀请赛回到北京之后，周琦...</td>\n",
       "    </tr>\n",
       "  </tbody>\n",
       "</table>\n",
       "</div>"
      ]
     },
     "execution_count": 28,
     "metadata": {},
     "output_type": "execute_result"
    }
   ],
   "execution_count": 28
  },
  {
   "metadata": {
    "ExecuteTime": {
     "end_time": "2025-03-12T11:50:23.334625Z",
     "start_time": "2025-03-12T11:50:23.272132Z"
    }
   },
   "cell_type": "code",
   "source": [
    "# 将合并后的 DataFrame 保存为用制表符分隔的 CSV 文件\n",
    "combined_df.to_csv('D:\\project\\data\\\\val_data.csv', sep='\\t', index=False)"
   ],
   "id": "4d11a4a83a42f57d",
   "outputs": [],
   "execution_count": 29
  },
  {
   "metadata": {
    "ExecuteTime": {
     "end_time": "2025-03-12T11:50:24.815652Z",
     "start_time": "2025-03-12T11:50:24.787313Z"
    }
   },
   "cell_type": "code",
   "source": [
    "# 创建一个空列表来存储每个类别的前4000行\n",
    "dfs = []\n",
    "# 遍历目标类别列表，提取每个类别的前500行\n",
    "for category in target_list:\n",
    "    category_df = test_data[test_data[\"label\"] == category].iloc[:500, :]\n",
    "    dfs.append(category_df)\n",
    "\n",
    "# 使用 concat 函数将所有类别提取的数据合并为一个 DataFrame\n",
    "combined_df = pd.concat(dfs, ignore_index=True)\n",
    "combined_df.info()"
   ],
   "id": "b911d5d9378fd7b4",
   "outputs": [
    {
     "name": "stdout",
     "output_type": "stream",
     "text": [
      "<class 'pandas.core.frame.DataFrame'>\n",
      "RangeIndex: 3000 entries, 0 to 2999\n",
      "Data columns (total 2 columns):\n",
      " #   Column   Non-Null Count  Dtype \n",
      "---  ------   --------------  ----- \n",
      " 0   label    3000 non-null   object\n",
      " 1   content  3000 non-null   object\n",
      "dtypes: object(2)\n",
      "memory usage: 47.0+ KB\n"
     ]
    }
   ],
   "execution_count": 30
  },
  {
   "metadata": {
    "ExecuteTime": {
     "end_time": "2025-03-12T11:50:36.586233Z",
     "start_time": "2025-03-12T11:50:36.568388Z"
    }
   },
   "cell_type": "code",
   "source": "combined_df.head()",
   "id": "815ebcc8e6d0457e",
   "outputs": [
    {
     "data": {
      "text/plain": [
       "  label                                            content\n",
       "0    体育  鲍勃库西奖归谁属？ NCAA最强控卫是坎巴还是弗神新浪体育讯如今，本赛季的NCAA进入到了末...\n",
       "1    体育  麦基砍28+18+5却充满寂寞 纪录之夜他的痛阿联最懂新浪体育讯上天对每个人都是公平的，贾维...\n",
       "2    体育  黄蜂vs湖人首发：科比冲击七连胜 火箭两旧将登场新浪体育讯北京时间3月28日，NBA常规赛洛...\n",
       "3    体育  双面谢亚龙作秀终成做作 谁来为低劣行政能力埋单是谁任命了谢亚龙？谁放纵了谢亚龙？谁又该为谢亚...\n",
       "4    体育  兔年首战山西换帅后有虎胆 张学文用乔丹名言励志今晚客场挑战浙江稠州银行队，是山西汾酒男篮的兔..."
      ],
      "text/html": [
       "<div>\n",
       "<style scoped>\n",
       "    .dataframe tbody tr th:only-of-type {\n",
       "        vertical-align: middle;\n",
       "    }\n",
       "\n",
       "    .dataframe tbody tr th {\n",
       "        vertical-align: top;\n",
       "    }\n",
       "\n",
       "    .dataframe thead th {\n",
       "        text-align: right;\n",
       "    }\n",
       "</style>\n",
       "<table border=\"1\" class=\"dataframe\">\n",
       "  <thead>\n",
       "    <tr style=\"text-align: right;\">\n",
       "      <th></th>\n",
       "      <th>label</th>\n",
       "      <th>content</th>\n",
       "    </tr>\n",
       "  </thead>\n",
       "  <tbody>\n",
       "    <tr>\n",
       "      <th>0</th>\n",
       "      <td>体育</td>\n",
       "      <td>鲍勃库西奖归谁属？ NCAA最强控卫是坎巴还是弗神新浪体育讯如今，本赛季的NCAA进入到了末...</td>\n",
       "    </tr>\n",
       "    <tr>\n",
       "      <th>1</th>\n",
       "      <td>体育</td>\n",
       "      <td>麦基砍28+18+5却充满寂寞 纪录之夜他的痛阿联最懂新浪体育讯上天对每个人都是公平的，贾维...</td>\n",
       "    </tr>\n",
       "    <tr>\n",
       "      <th>2</th>\n",
       "      <td>体育</td>\n",
       "      <td>黄蜂vs湖人首发：科比冲击七连胜 火箭两旧将登场新浪体育讯北京时间3月28日，NBA常规赛洛...</td>\n",
       "    </tr>\n",
       "    <tr>\n",
       "      <th>3</th>\n",
       "      <td>体育</td>\n",
       "      <td>双面谢亚龙作秀终成做作 谁来为低劣行政能力埋单是谁任命了谢亚龙？谁放纵了谢亚龙？谁又该为谢亚...</td>\n",
       "    </tr>\n",
       "    <tr>\n",
       "      <th>4</th>\n",
       "      <td>体育</td>\n",
       "      <td>兔年首战山西换帅后有虎胆 张学文用乔丹名言励志今晚客场挑战浙江稠州银行队，是山西汾酒男篮的兔...</td>\n",
       "    </tr>\n",
       "  </tbody>\n",
       "</table>\n",
       "</div>"
      ]
     },
     "execution_count": 31,
     "metadata": {},
     "output_type": "execute_result"
    }
   ],
   "execution_count": 31
  },
  {
   "metadata": {
    "ExecuteTime": {
     "end_time": "2025-03-12T11:50:55.533601Z",
     "start_time": "2025-03-12T11:50:55.478935Z"
    }
   },
   "cell_type": "code",
   "source": [
    "# 将合并后的 DataFrame 保存为用制表符分隔的 CSV 文件\n",
    "combined_df.to_csv('D:\\project\\data\\\\test_data.csv', sep='\\t', index=False)"
   ],
   "id": "fe3cd76c9daedd1e",
   "outputs": [],
   "execution_count": 32
  },
  {
   "metadata": {},
   "cell_type": "markdown",
   "source": "## 将数据集的label转换为数字",
   "id": "5da8979a39ee1427"
  },
  {
   "metadata": {
    "ExecuteTime": {
     "end_time": "2025-03-13T09:09:52.363890Z",
     "start_time": "2025-03-13T09:09:51.656227Z"
    }
   },
   "cell_type": "code",
   "source": [
    "import numpy as np\n",
    "import pandas as pd\n",
    "# 读取数据集\n",
    "train_data = pd.read_csv('D:\\project\\data\\\\train_data.csv', sep='\\t')\n",
    "val_data = pd.read_csv('D:\\project\\data\\\\val_data.csv', sep='\\t')\n",
    "test_data = pd.read_csv('D:\\project\\data\\\\test_data.csv', sep='\\t')\n",
    "train_data.info()\n",
    "val_data.info()\n",
    "test_data.info()"
   ],
   "id": "cf91f321c509806b",
   "outputs": [
    {
     "name": "stdout",
     "output_type": "stream",
     "text": [
      "<class 'pandas.core.frame.DataFrame'>\n",
      "RangeIndex: 24000 entries, 0 to 23999\n",
      "Data columns (total 2 columns):\n",
      " #   Column   Non-Null Count  Dtype \n",
      "---  ------   --------------  ----- \n",
      " 0   label    24000 non-null  object\n",
      " 1   content  24000 non-null  object\n",
      "dtypes: object(2)\n",
      "memory usage: 375.1+ KB\n",
      "<class 'pandas.core.frame.DataFrame'>\n",
      "RangeIndex: 3000 entries, 0 to 2999\n",
      "Data columns (total 2 columns):\n",
      " #   Column   Non-Null Count  Dtype \n",
      "---  ------   --------------  ----- \n",
      " 0   label    3000 non-null   object\n",
      " 1   content  3000 non-null   object\n",
      "dtypes: object(2)\n",
      "memory usage: 47.0+ KB\n",
      "<class 'pandas.core.frame.DataFrame'>\n",
      "RangeIndex: 3000 entries, 0 to 2999\n",
      "Data columns (total 2 columns):\n",
      " #   Column   Non-Null Count  Dtype \n",
      "---  ------   --------------  ----- \n",
      " 0   label    3000 non-null   object\n",
      " 1   content  3000 non-null   object\n",
      "dtypes: object(2)\n",
      "memory usage: 47.0+ KB\n"
     ]
    }
   ],
   "execution_count": 3
  },
  {
   "metadata": {
    "ExecuteTime": {
     "end_time": "2025-03-13T09:09:55.769820Z",
     "start_time": "2025-03-13T09:09:55.754190Z"
    }
   },
   "cell_type": "code",
   "source": "train_data.head()",
   "id": "6f48285239098150",
   "outputs": [
    {
     "data": {
      "text/plain": [
       "  label                                            content\n",
       "0    体育  马晓旭意外受伤让国奥警惕 无奈大雨格外青睐殷家军记者傅亚雨沈阳报道 来到沈阳，国奥队依然没有...\n",
       "1    体育  商瑞华首战复仇心切 中国玫瑰要用美国方式攻克瑞典多曼来了，瑞典来了，商瑞华首战求3分的信心也...\n",
       "2    体育  冠军球队迎新欢乐派对 黄旭获大奖张军赢下PK赛新浪体育讯12月27日晚，“冠军高尔夫球队迎新...\n",
       "3    体育  辽足签约危机引注册难关 高层威逼利诱合同笑里藏刀新浪体育讯2月24日，辽足爆发了集体拒签风波...\n",
       "4    体育  揭秘谢亚龙被带走：总局电话骗局 复制南杨轨迹体坛周报特约记者张锐北京报道  谢亚龙已经被公安..."
      ],
      "text/html": [
       "<div>\n",
       "<style scoped>\n",
       "    .dataframe tbody tr th:only-of-type {\n",
       "        vertical-align: middle;\n",
       "    }\n",
       "\n",
       "    .dataframe tbody tr th {\n",
       "        vertical-align: top;\n",
       "    }\n",
       "\n",
       "    .dataframe thead th {\n",
       "        text-align: right;\n",
       "    }\n",
       "</style>\n",
       "<table border=\"1\" class=\"dataframe\">\n",
       "  <thead>\n",
       "    <tr style=\"text-align: right;\">\n",
       "      <th></th>\n",
       "      <th>label</th>\n",
       "      <th>content</th>\n",
       "    </tr>\n",
       "  </thead>\n",
       "  <tbody>\n",
       "    <tr>\n",
       "      <th>0</th>\n",
       "      <td>体育</td>\n",
       "      <td>马晓旭意外受伤让国奥警惕 无奈大雨格外青睐殷家军记者傅亚雨沈阳报道 来到沈阳，国奥队依然没有...</td>\n",
       "    </tr>\n",
       "    <tr>\n",
       "      <th>1</th>\n",
       "      <td>体育</td>\n",
       "      <td>商瑞华首战复仇心切 中国玫瑰要用美国方式攻克瑞典多曼来了，瑞典来了，商瑞华首战求3分的信心也...</td>\n",
       "    </tr>\n",
       "    <tr>\n",
       "      <th>2</th>\n",
       "      <td>体育</td>\n",
       "      <td>冠军球队迎新欢乐派对 黄旭获大奖张军赢下PK赛新浪体育讯12月27日晚，“冠军高尔夫球队迎新...</td>\n",
       "    </tr>\n",
       "    <tr>\n",
       "      <th>3</th>\n",
       "      <td>体育</td>\n",
       "      <td>辽足签约危机引注册难关 高层威逼利诱合同笑里藏刀新浪体育讯2月24日，辽足爆发了集体拒签风波...</td>\n",
       "    </tr>\n",
       "    <tr>\n",
       "      <th>4</th>\n",
       "      <td>体育</td>\n",
       "      <td>揭秘谢亚龙被带走：总局电话骗局 复制南杨轨迹体坛周报特约记者张锐北京报道  谢亚龙已经被公安...</td>\n",
       "    </tr>\n",
       "  </tbody>\n",
       "</table>\n",
       "</div>"
      ]
     },
     "execution_count": 4,
     "metadata": {},
     "output_type": "execute_result"
    }
   ],
   "execution_count": 4
  },
  {
   "metadata": {
    "ExecuteTime": {
     "end_time": "2025-03-13T09:10:17.218887Z",
     "start_time": "2025-03-13T09:10:17.204685Z"
    }
   },
   "cell_type": "code",
   "source": [
    "# 将数据集的label转换为数字\n",
    "label_dict = {\"体育\": 0, \"财经\": 1, \"房产\": 2, \"家居\": 3, \"教育\": 4, \"科技\": 5}\n",
    "train_data[\"label\"] = train_data[\"label\"].map(label_dict)\n",
    "val_data[\"label\"] = val_data[\"label\"].map(label_dict)\n",
    "test_data[\"label\"] = test_data[\"label\"].map(label_dict)\n",
    "train_data.head()"
   ],
   "id": "2118ddfeb63d40d5",
   "outputs": [
    {
     "data": {
      "text/plain": [
       "   label                                            content\n",
       "0      0  马晓旭意外受伤让国奥警惕 无奈大雨格外青睐殷家军记者傅亚雨沈阳报道 来到沈阳，国奥队依然没有...\n",
       "1      0  商瑞华首战复仇心切 中国玫瑰要用美国方式攻克瑞典多曼来了，瑞典来了，商瑞华首战求3分的信心也...\n",
       "2      0  冠军球队迎新欢乐派对 黄旭获大奖张军赢下PK赛新浪体育讯12月27日晚，“冠军高尔夫球队迎新...\n",
       "3      0  辽足签约危机引注册难关 高层威逼利诱合同笑里藏刀新浪体育讯2月24日，辽足爆发了集体拒签风波...\n",
       "4      0  揭秘谢亚龙被带走：总局电话骗局 复制南杨轨迹体坛周报特约记者张锐北京报道  谢亚龙已经被公安..."
      ],
      "text/html": [
       "<div>\n",
       "<style scoped>\n",
       "    .dataframe tbody tr th:only-of-type {\n",
       "        vertical-align: middle;\n",
       "    }\n",
       "\n",
       "    .dataframe tbody tr th {\n",
       "        vertical-align: top;\n",
       "    }\n",
       "\n",
       "    .dataframe thead th {\n",
       "        text-align: right;\n",
       "    }\n",
       "</style>\n",
       "<table border=\"1\" class=\"dataframe\">\n",
       "  <thead>\n",
       "    <tr style=\"text-align: right;\">\n",
       "      <th></th>\n",
       "      <th>label</th>\n",
       "      <th>content</th>\n",
       "    </tr>\n",
       "  </thead>\n",
       "  <tbody>\n",
       "    <tr>\n",
       "      <th>0</th>\n",
       "      <td>0</td>\n",
       "      <td>马晓旭意外受伤让国奥警惕 无奈大雨格外青睐殷家军记者傅亚雨沈阳报道 来到沈阳，国奥队依然没有...</td>\n",
       "    </tr>\n",
       "    <tr>\n",
       "      <th>1</th>\n",
       "      <td>0</td>\n",
       "      <td>商瑞华首战复仇心切 中国玫瑰要用美国方式攻克瑞典多曼来了，瑞典来了，商瑞华首战求3分的信心也...</td>\n",
       "    </tr>\n",
       "    <tr>\n",
       "      <th>2</th>\n",
       "      <td>0</td>\n",
       "      <td>冠军球队迎新欢乐派对 黄旭获大奖张军赢下PK赛新浪体育讯12月27日晚，“冠军高尔夫球队迎新...</td>\n",
       "    </tr>\n",
       "    <tr>\n",
       "      <th>3</th>\n",
       "      <td>0</td>\n",
       "      <td>辽足签约危机引注册难关 高层威逼利诱合同笑里藏刀新浪体育讯2月24日，辽足爆发了集体拒签风波...</td>\n",
       "    </tr>\n",
       "    <tr>\n",
       "      <th>4</th>\n",
       "      <td>0</td>\n",
       "      <td>揭秘谢亚龙被带走：总局电话骗局 复制南杨轨迹体坛周报特约记者张锐北京报道  谢亚龙已经被公安...</td>\n",
       "    </tr>\n",
       "  </tbody>\n",
       "</table>\n",
       "</div>"
      ]
     },
     "execution_count": 5,
     "metadata": {},
     "output_type": "execute_result"
    }
   ],
   "execution_count": 5
  },
  {
   "metadata": {
    "ExecuteTime": {
     "end_time": "2025-03-13T09:12:18.062036Z",
     "start_time": "2025-03-13T09:12:17.628675Z"
    }
   },
   "cell_type": "code",
   "source": [
    "# 将转换结果保存为新的CSV文件\n",
    "train_data.to_csv('D:\\project\\data\\\\train_data_v1.csv', sep='\\t', index=False)\n",
    "val_data.to_csv('D:\\project\\data\\\\val_data_v1.csv', sep='\\t', index=False)\n",
    "test_data.to_csv('D:\\project\\data\\\\test_data_v1.csv', sep='\\t', index=False)"
   ],
   "id": "d90bdc1de5dfe062",
   "outputs": [],
   "execution_count": 6
  },
  {
   "metadata": {},
   "cell_type": "markdown",
   "source": "## 对新闻内容进行jieba分词\n",
   "id": "7ca9e088ecaebf03"
  },
  {
   "metadata": {},
   "cell_type": "code",
   "outputs": [],
   "execution_count": null,
   "source": [
    "# 分词并去除停用词\n",
    "import jieba\n",
    "import pandas as pd\n",
    "# 读取数据集\n",
    "train_data = pd.read_csv('D:\\project\\data\\\\train_data_v1.csv', sep='\\t')\n",
    "val_data = pd.read_csv('D:\\project\\data\\\\val_data_v1.csv', sep='\\t')\n",
    "test_data = pd.read_csv('D:\\project\\data\\\\test_data.csv', sep='\\t')\n",
    "# 加载停用词表\n",
    "stopwords = set()\n",
    "with open('D:\\project\\data\\\\stopwords.txt', 'r', encoding='utf-8') as f:\n",
    "    for line in f:\n",
    "        stopwords.add(line.strip())\n",
    "# 对文本进行分词并去除停用词\n",
    "def tokenize(text):\n",
    "    words = jieba.lcut(text)\n",
    "    words = [word for word in words if word not in stopwords]\n",
    "    return ' '.join(words)\n"
   ],
   "id": "b17f2a8faba8854"
  },
  {
   "metadata": {},
   "cell_type": "code",
   "outputs": [],
   "execution_count": null,
   "source": [
    "# 运用已有的TF-IDF模型进行向量化\n",
    "from sklearn.feature_extraction.text import TfidfVectorizer\n",
    "# 读取数据集\n",
    "train_data = pd.read_csv('D:\\project\\data\\\\train_data_v1.csv', sep='\\t')\n",
    "val_data = pd.read_csv('D:\\project\\data\\\\val_data_v1.csv', sep='\\t')\n",
    "test_data = pd.read_csv('D:\\project\\data\\\\test_data.csv', sep='\\t')\n",
    "vectorizer = TfidfVectorizer()\n",
    "vectorizer.fit(train_data[\"content\"])\n",
    "vectorizer.transform(train_data[\"content\"])\n",
    "vectorizer.transform(val_data[\"content\"])\n",
    "vectorizer.transform(test_data[\"content\"])\n",
    "\n",
    "\n"
   ],
   "id": "c8dca2f0fba491da"
  }
 ],
 "metadata": {
  "kernelspec": {
   "display_name": "Python 3 (ipykernel)",
   "language": "python",
   "name": "python3"
  },
  "language_info": {
   "codemirror_mode": {
    "name": "ipython",
    "version": 3
   },
   "file_extension": ".py",
   "mimetype": "text/x-python",
   "name": "python",
   "nbconvert_exporter": "python",
   "pygments_lexer": "ipython3",
   "version": "3.13.2"
  }
 },
 "nbformat": 4,
 "nbformat_minor": 5
}
