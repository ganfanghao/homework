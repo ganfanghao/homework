{
 "cells": [
  {
   "cell_type": "code",
   "id": "initial_id",
   "metadata": {
    "collapsed": true,
    "ExecuteTime": {
     "end_time": "2025-03-11T15:06:35.993337Z",
     "start_time": "2025-03-11T15:06:35.990202Z"
    }
   },
   "source": "print(\"hello world\")",
   "outputs": [
    {
     "name": "stdout",
     "output_type": "stream",
     "text": [
      "hello world\n"
     ]
    }
   ],
   "execution_count": 2
  },
  {
   "metadata": {},
   "cell_type": "markdown",
   "source": "利用skilearn进行中文文本分类",
   "id": "2fe64b5bb8222649"
  },
  {
   "metadata": {},
   "cell_type": "markdown",
   "source": "数据集官方方法",
   "id": "b18976c7f12bb312"
  },
  {
   "metadata": {},
   "cell_type": "code",
   "outputs": [],
   "execution_count": null,
   "source": [
    "import os\n",
    "import random\n",
    "import shutil\n",
    "\n",
    "# 设置随机种子以确保可重复性\n",
    "random.seed(42)\n",
    "\n",
    "# 数据集路径\n",
    "data_dir = 'path_to_thucnews_dataset'  # 替换为实际的THUCNews数据集路径\n",
    "output_dir = 'thucnews_selected'  # 输出目录\n",
    "\n",
    "# 选择的6个类别\n",
    "selected_categories = ['财经', '房产', '教育', '科技', '体育', '娱乐']\n",
    "\n",
    "# 每个类别的文档数量\n",
    "total_per_category = 5000\n",
    "train_per_category = 4000\n",
    "test_per_category = 500\n",
    "val_per_category = 500\n",
    "\n",
    "# 创建输出目录\n",
    "os.makedirs(output_dir, exist_ok=True)\n",
    "os.makedirs(os.path.join(output_dir, 'train'), exist_ok=True)\n",
    "os.makedirs(os.path.join(output_dir, 'test'), exist_ok=True)\n",
    "os.makedirs(os.path.join(output_dir, 'val'), exist_ok=True)\n",
    "\n",
    "# 遍历每个类别\n",
    "for category in selected_categories:\n",
    "    category_dir = os.path.join(data_dir, category)\n",
    "    files = os.listdir(category_dir)\n",
    "    random.shuffle(files)  # 随机打乱文件顺序\n",
    "\n",
    "    # 确保每个类别有足够的文件\n",
    "    if len(files) < total_per_category:\n",
    "        raise ValueError(f\"类别 {category} 的文件数量不足 {total_per_category}\")\n",
    "\n",
    "    # 选择文件\n",
    "    selected_files = files[:total_per_category]\n",
    "\n",
    "    # 分配文件到训练集、测试集和验证集\n",
    "    train_files = selected_files[:train_per_category]\n",
    "    test_files = selected_files[train_per_category:train_per_category + test_per_category]\n",
    "    val_files = selected_files[train_per_category + test_per_category:total_per_category]\n",
    "\n",
    "    # 复制文件到相应的目录\n",
    "    for file in train_files:\n",
    "        shutil.copy(os.path.join(category_dir, file), os.path.join(output_dir, 'train', category + '_' + file))\n",
    "\n",
    "    for file in test_files:\n",
    "        shutil.copy(os.path.join(category_dir, file), os.path.join(output_dir, 'test', category + '_' + file))\n",
    "\n",
    "    for file in val_files:\n",
    "        shutil.copy(os.path.join(category_dir, file), os.path.join(output_dir, 'val', category + '_' + file))\n",
    "\n",
    "print(\"数据集划分完成！\")"
   ],
   "id": "248a451c12ad9ae3"
  },
  {
   "metadata": {},
   "cell_type": "code",
   "outputs": [],
   "execution_count": null,
   "source": [
    "from thuctc import THUCTC\n",
    "\n",
    "#  初始化THUCTC\n",
    "thuctc = THUCTC()\n",
    "\n",
    "# 设置训练集、测试集和验证集路径\n",
    "train_dir = os.path.join(output_dir, 'train')\n",
    "test_dir = os.path.join(output_dir, 'test')\n",
    "val_dir = os.path.join(output_dir, 'val')\n",
    "\n",
    "# 训练模型\n",
    "thuctc.train(train_dir, val_dir)\n",
    "\n",
    "# 测试模型\n",
    "accuracy = thuctc.test(test_dir)\n",
    "print(f\"模型在测试集上的准确率为: {accuracy * 100:.2f}%\")"
   ],
   "id": "40f5588cf10f636e"
  }
 ],
 "metadata": {
  "kernelspec": {
   "display_name": "Python 3",
   "language": "python",
   "name": "python3"
  },
  "language_info": {
   "codemirror_mode": {
    "name": "ipython",
    "version": 2
   },
   "file_extension": ".py",
   "mimetype": "text/x-python",
   "name": "python",
   "nbconvert_exporter": "python",
   "pygments_lexer": "ipython2",
   "version": "2.7.6"
  }
 },
 "nbformat": 4,
 "nbformat_minor": 5
}
