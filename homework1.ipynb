{
 "cells": [
  {
   "cell_type": "markdown",
   "id": "b18976c7f12bb312",
   "metadata": {},
   "source": [
    "# 中文文本分类-THUCNews数据集"
   ]
  },
  {
   "cell_type": "markdown",
   "id": "6e3e09daabc7226e",
   "metadata": {},
   "source": [
    "## 数据说明与初步处理\n",
    "### 数据集下载\n",
    "本文采用了清华NLP组提供的THUCNews新闻文本分类数据集的子集\n",
    "数据下载链接：\n",
    "THUCNews数据子集：https://pan.baidu.com/s/1hugrfRu 密码：qfud\n",
    "\n",
    "### 数据量\n",
    "该数据集使用了其中的10个分类，每个分类6500条，总共65000条新闻数据。\n",
    "类别如下：\n",
    "数据集共有三个文件，如下：\n",
    "cnews.train.txt: 训练集(500010条)\n",
    "cnews.val.txt: 验证集(50010条)\n",
    "cnews.test.txt: 测试集(1000*10条)\n",
    "\n",
    "原文链接：https://blog.csdn.net/qq_36047533/article/details/88360833"
   ]
  },
  {
   "cell_type": "code",
   "execution_count": 3,
   "id": "cace10f1e90a8b9f",
   "metadata": {
    "jupyter": {
     "is_executing": true
    }
   },
   "outputs": [
    {
     "name": "stdout",
     "output_type": "stream",
     "text": [
      "<class 'pandas.core.frame.DataFrame'>\n",
      "RangeIndex: 50000 entries, 0 to 49999\n",
      "Data columns (total 2 columns):\n",
      " #   Column   Non-Null Count  Dtype \n",
      "---  ------   --------------  ----- \n",
      " 0   label    50000 non-null  object\n",
      " 1   content  50000 non-null  object\n",
      "dtypes: object(2)\n",
      "memory usage: 781.4+ KB\n"
     ]
    }
   ],
   "source": [
    "import pandas as pd\n",
    "train_data=pd.read_csv('cnews.train.txt',sep='\\t',names=['label','content'])\n",
    "test_data=pd.read_csv('cnews.test.txt',sep='\\t',names=['content'])\n",
    "train_data.info()"
   ]
  },
  {
   "cell_type": "code",
   "id": "792807c9f4835c98",
   "metadata": {
    "jupyter": {
     "is_executing": true
    }
   },
   "source": [
    "print(\"hello\")"
   ],
   "outputs": [],
   "execution_count": null
  },
  {
   "cell_type": "code",
   "execution_count": null,
   "id": "de3dc81070f58e58",
   "metadata": {},
   "outputs": [],
   "source": []
  }
 ],
 "metadata": {
  "kernelspec": {
   "display_name": "Python 3 (ipykernel)",
   "language": "python",
   "name": "python3"
  },
  "language_info": {
   "codemirror_mode": {
    "name": "ipython",
    "version": 3
   },
   "file_extension": ".py",
   "mimetype": "text/x-python",
   "name": "python",
   "nbconvert_exporter": "python",
   "pygments_lexer": "ipython3",
   "version": "3.13.2"
  }
 },
 "nbformat": 4,
 "nbformat_minor": 5
}
